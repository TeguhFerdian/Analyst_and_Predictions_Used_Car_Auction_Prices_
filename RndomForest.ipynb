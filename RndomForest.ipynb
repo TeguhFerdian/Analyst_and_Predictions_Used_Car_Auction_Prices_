{
  "cells": [
    {
      "cell_type": "markdown",
      "metadata": {
        "id": "TRN4pngk_Nt-"
      },
      "source": [
        "***STAGE 2: DATA PRE-PROCESSING***"
      ]
    },
    {
      "cell_type": "markdown",
      "metadata": {
        "id": "oSC5GlZMaKd1"
      },
      "source": [
        "# **1. Import Libraries**"
      ]
    },
    {
      "cell_type": "code",
      "execution_count": 1,
      "metadata": {
        "id": "YQCsRtF8aPhd"
      },
      "outputs": [],
      "source": [
        "import pandas as pd\n",
        "import numpy as np\n",
        "import matplotlib.pyplot as plt\n",
        "import seaborn as sns\n",
        "import re\n",
        "from scipy import stats"
      ]
    },
    {
      "cell_type": "code",
      "execution_count": 2,
      "metadata": {
        "colab": {
          "base_uri": "https://localhost:8080/"
        },
        "id": "mCVhoTZFJsC1",
        "outputId": "d2dc3a82-233f-4544-cd51-d28e8fca0259"
      },
      "outputs": [
        {
          "output_type": "stream",
          "name": "stdout",
          "text": [
            "3.2.2\n",
            "0.11.2\n",
            "1.3.5\n"
          ]
        }
      ],
      "source": [
        "import matplotlib\n",
        "\n",
        "print(matplotlib.__version__)\n",
        "print(sns.__version__)\n",
        "print(pd.__version__)"
      ]
    },
    {
      "cell_type": "markdown",
      "metadata": {
        "id": "TCgZPcXcaegs"
      },
      "source": [
        "# **2. Load Data** <br>\n",
        "Data yang digunakan yaitu [Used Car Auction Prices](https://www.kaggle.com/datasets/tunguz/used-car-auction-prices) dari kaggle.com.\n"
      ]
    },
    {
      "cell_type": "code",
      "execution_count": null,
      "metadata": {
        "id": "G4q1xVdLN6gN"
      },
      "outputs": [],
      "source": [
        "from google.colab import drive\n",
        "drive.mount('/content/drive')"
      ]
    },
    {
      "cell_type": "code",
      "execution_count": null,
      "metadata": {
        "id": "_f5jdNCeMkY7"
      },
      "outputs": [],
      "source": [
        "df = pd.read_csv('/content/drive/MyDrive/Colab Notebooks/car_prices.csv', on_bad_lines='skip')"
      ]
    },
    {
      "cell_type": "markdown",
      "metadata": {
        "id": "aZzo_9cLUDIc"
      },
      "source": [
        "# **3. Data Pre-processing** <br>"
      ]
    },
    {
      "cell_type": "markdown",
      "metadata": {
        "id": "XfOMta3U6RyG"
      },
      "source": [
        "## 3.1. Handling Duplicated Data"
      ]
    },
    {
      "cell_type": "code",
      "execution_count": null,
      "metadata": {
        "colab": {
          "base_uri": "https://localhost:8080/"
        },
        "id": "ZQtUu1Ma6VPe",
        "outputId": "3d0eea4d-9a87-48b1-aa4c-96c10f28e21d"
      },
      "outputs": [
        {
          "data": {
            "text/plain": [
              "0"
            ]
          },
          "execution_count": 4,
          "metadata": {},
          "output_type": "execute_result"
        }
      ],
      "source": [
        "df.duplicated().sum()"
      ]
    },
    {
      "cell_type": "markdown",
      "metadata": {
        "id": "asKPHn2d6nU_"
      },
      "source": [
        "Tidak ada data duplikat."
      ]
    },
    {
      "cell_type": "markdown",
      "metadata": {
        "id": "4P2dM8gqgEEu"
      },
      "source": [
        "## 3.2. Handling Missing Values"
      ]
    },
    {
      "cell_type": "markdown",
      "metadata": {
        "id": "7ZbqgChAnjej"
      },
      "source": [
        "### 3.2.1 Drop Missing Values"
      ]
    },
    {
      "cell_type": "code",
      "execution_count": null,
      "metadata": {
        "id": "fSCusG3FKzmP"
      },
      "outputs": [],
      "source": [
        "mv = df.isnull().sum()\n",
        "tmv = df.isnull().count()\n",
        "\n",
        "pmv = mv*100/tmv\n",
        "\n",
        "mdf = pd.concat([mv, pmv], axis=1)\n",
        "mdf.columns = ['Missing Value Total', 'Missing Value Percentage (%)']\n",
        "mdf.reset_index(inplace=True)\n",
        "# mdf"
      ]
    },
    {
      "cell_type": "code",
      "execution_count": null,
      "metadata": {
        "id": "LjhXqL_aiHeq"
      },
      "outputs": [],
      "source": [
        "col_mv = mdf[mdf['Missing Value Percentage (%)'] < 2.5]['index'] # kolom dengan missing value < 2.5 akan kita drop barisnya\n",
        "# col_mv"
      ]
    },
    {
      "cell_type": "code",
      "execution_count": null,
      "metadata": {
        "colab": {
          "base_uri": "https://localhost:8080/"
        },
        "id": "3Roai3sWg4oa",
        "outputId": "3e311b81-afcd-4c3d-eb7d-b9b791744ff9"
      },
      "outputs": [
        {
          "data": {
            "text/plain": [
              "year                0\n",
              "make                0\n",
              "model               0\n",
              "trim                0\n",
              "body                0\n",
              "transmission    61324\n",
              "vin                 0\n",
              "state               0\n",
              "condition           0\n",
              "odometer            0\n",
              "color               0\n",
              "interior            0\n",
              "seller              0\n",
              "mmr                 0\n",
              "sellingprice        0\n",
              "saledate            0\n",
              "dtype: int64"
            ]
          },
          "execution_count": 7,
          "metadata": {},
          "output_type": "execute_result"
        }
      ],
      "source": [
        "# Setelah drop missing value dari kolom yang persentase missing value < 2.5 %\n",
        "cols = col_mv.values\n",
        "for i in cols:\n",
        "  df = df[~(df[i].isnull())]\n",
        "df.isna().sum()"
      ]
    },
    {
      "cell_type": "code",
      "execution_count": null,
      "metadata": {
        "id": "OISyRnz0m484"
      },
      "outputs": [],
      "source": [
        "# df.shape"
      ]
    },
    {
      "cell_type": "markdown",
      "metadata": {
        "id": "TawHx2NmnosI"
      },
      "source": [
        "### 3.2.2 Fill Missing Value in Transmission Column"
      ]
    },
    {
      "cell_type": "code",
      "execution_count": null,
      "metadata": {
        "colab": {
          "base_uri": "https://localhost:8080/"
        },
        "id": "sWRKdno042PN",
        "outputId": "15b45190-249e-4a3f-e588-309b6961eb40"
      },
      "outputs": [
        {
          "data": {
            "text/plain": [
              "61324"
            ]
          },
          "execution_count": 9,
          "metadata": {},
          "output_type": "execute_result"
        }
      ],
      "source": [
        "# before filling missing value\n",
        "df['transmission'].isnull().sum()"
      ]
    },
    {
      "cell_type": "code",
      "execution_count": null,
      "metadata": {
        "colab": {
          "base_uri": "https://localhost:8080/"
        },
        "id": "QcfAb05Q4fvZ",
        "outputId": "82e75eb3-addb-4577-8dcc-f83d69775f86"
      },
      "outputs": [
        {
          "data": {
            "text/plain": [
              "0"
            ]
          },
          "execution_count": 10,
          "metadata": {},
          "output_type": "execute_result"
        }
      ],
      "source": [
        "# after filling missing value\n",
        "df['transmission'] = df['transmission'].fillna(df['transmission'].mode()[0])\n",
        "df['transmission'].isnull().sum()"
      ]
    },
    {
      "cell_type": "code",
      "execution_count": null,
      "metadata": {
        "colab": {
          "base_uri": "https://localhost:8080/"
        },
        "id": "bP9MpvQSOZd2",
        "outputId": "9dc2712c-a8c3-4a01-8ddd-cce16cbbf099"
      },
      "outputs": [
        {
          "name": "stdout",
          "output_type": "stream",
          "text": [
            "<class 'pandas.core.frame.DataFrame'>\n",
            "Int64Index: 533660 entries, 0 to 558810\n",
            "Data columns (total 16 columns):\n",
            " #   Column        Non-Null Count   Dtype  \n",
            "---  ------        --------------   -----  \n",
            " 0   year          533660 non-null  int64  \n",
            " 1   make          533660 non-null  object \n",
            " 2   model         533660 non-null  object \n",
            " 3   trim          533660 non-null  object \n",
            " 4   body          533660 non-null  object \n",
            " 5   transmission  533660 non-null  object \n",
            " 6   vin           533660 non-null  object \n",
            " 7   state         533660 non-null  object \n",
            " 8   condition     533660 non-null  float64\n",
            " 9   odometer      533660 non-null  float64\n",
            " 10  color         533660 non-null  object \n",
            " 11  interior      533660 non-null  object \n",
            " 12  seller        533660 non-null  object \n",
            " 13  mmr           533660 non-null  int64  \n",
            " 14  sellingprice  533660 non-null  int64  \n",
            " 15  saledate      533660 non-null  object \n",
            "dtypes: float64(2), int64(3), object(11)\n",
            "memory usage: 69.2+ MB\n"
          ]
        }
      ],
      "source": [
        "df.info()"
      ]
    },
    {
      "cell_type": "markdown",
      "metadata": {
        "id": "JxFdU6Q-UJYR"
      },
      "source": [
        "## 3.3. Recategorization High Cardinality in Categorical Features"
      ]
    },
    {
      "cell_type": "markdown",
      "metadata": {
        "id": "DTbwpT75Ur5L"
      },
      "source": [
        "### 3.3.1 Color"
      ]
    },
    {
      "cell_type": "code",
      "execution_count": null,
      "metadata": {
        "id": "UOY_s52NU7PC"
      },
      "outputs": [],
      "source": [
        "# mengganti nilai - menjadi unknown pada kolom color\n",
        "df.color = df.color.replace('—', 'unknown')"
      ]
    },
    {
      "cell_type": "code",
      "execution_count": null,
      "metadata": {
        "id": "VmikqknyTuVF"
      },
      "outputs": [],
      "source": [
        "color_grouped = df.groupby('color').agg({'sellingprice':'count'}).reset_index()\n",
        "color_grouped['Percentage']=color_grouped['sellingprice']*100/color_grouped.sellingprice.sum()\n",
        "# color_grouped.sort_values('sellingprice', ascending=False).reset_index(drop=True)"
      ]
    },
    {
      "cell_type": "markdown",
      "metadata": {
        "id": "jW0DnMjVTzav"
      },
      "source": [
        "melihat persentase dibawah 10 yang kecil, oleh karena itu beberapa warna yang di rasa sama akan digabungkan."
      ]
    },
    {
      "cell_type": "code",
      "execution_count": null,
      "metadata": {
        "id": "bEehBLblVfcO"
      },
      "outputs": [],
      "source": [
        "def color_category(x): \n",
        "  if x in ['black','charcoal','unknown']: \n",
        "    color = 'black'\n",
        "  elif x in ['off-white', 'white']:\n",
        "    color = 'white'\n",
        "  elif x == 'silver':\n",
        "    color = 'silver'\n",
        "  elif x == 'gray':\n",
        "    color = 'gray'\n",
        "  elif x in ['blue', 'turqoise']:\n",
        "    color = 'blue'\n",
        "  elif x in ['burgundy', 'red', 'purple']:\n",
        "    color = 'red'\n",
        "  elif x in ['beige','brown']:\n",
        "    color = 'brown'\n",
        "  elif x == 'green':\n",
        "    color = 'green'\n",
        "  elif x in ['gold','yellow']:\n",
        "    color = 'gold'\n",
        "  elif x == 'pink':\n",
        "    color = 'pink'\n",
        "  else:\n",
        "    color= 'orange'\n",
        "  return color"
      ]
    },
    {
      "cell_type": "code",
      "execution_count": null,
      "metadata": {
        "id": "RgtuSd-wT_CB"
      },
      "outputs": [],
      "source": [
        "# Membuat kolom baru yaitu kolom color_new menggunakan fungsi color_category\n",
        "df['color_new'] = df['color'].apply(lambda x: color_category(x))"
      ]
    },
    {
      "cell_type": "code",
      "execution_count": null,
      "metadata": {
        "id": "omhzlQu9ayKF"
      },
      "outputs": [],
      "source": [
        "# # KDE color_new vs sellingprice\n",
        "# plt.figure(figsize=(16, 8))\n",
        "# sns.kdeplot(data=df, x='sellingprice', hue='color_new', common_norm=False)\n",
        "\n",
        "# Drop kolom color\n",
        "df = df.drop(columns='color')"
      ]
    },
    {
      "cell_type": "markdown",
      "metadata": {
        "id": "UyhPlQZqjVcn"
      },
      "source": [
        "### 3.3.2 Interior"
      ]
    },
    {
      "cell_type": "code",
      "execution_count": null,
      "metadata": {
        "id": "YeUUQmIE6PY6"
      },
      "outputs": [],
      "source": [
        "#df.groupby('interior')['interior'].count().sort_values(ascending=False)"
      ]
    },
    {
      "cell_type": "code",
      "execution_count": null,
      "metadata": {
        "id": "ApV-6S0ejarH"
      },
      "outputs": [],
      "source": [
        "# Mengganti nilai - menjadi unknown pada kolom interior\n",
        "df.interior = df.interior.replace('—', 'unknown')"
      ]
    },
    {
      "cell_type": "code",
      "execution_count": null,
      "metadata": {
        "id": "wmioacjak2x5"
      },
      "outputs": [],
      "source": [
        "# membuat kolom baru yaitu kolom interior_new menggunakan fungsi interior_category\n",
        "df['interior_new'] = df['interior'].apply(lambda x: color_category(x))"
      ]
    },
    {
      "cell_type": "code",
      "execution_count": null,
      "metadata": {
        "id": "qgX2mAFUlACh"
      },
      "outputs": [],
      "source": [
        "# # KDE interior_new vs sellingprice\n",
        "# plt.figure(figsize=(16, 8))\n",
        "# sns.kdeplot(data=df, x='sellingprice', hue='interior_new', common_norm=False, palette=\"bright\")\n",
        "\n",
        "# Drop kolom interior\n",
        "df = df.drop(columns='interior')"
      ]
    },
    {
      "cell_type": "markdown",
      "metadata": {
        "id": "S7JNT0kh6x_A"
      },
      "source": [
        "## 3.4. Feature Transformation <br>\n",
        "Log Transformation pada feature odometer. Kami melakukan transoformasi terlebih dulu sebelum melakukan handling outlier. Jika kita melakukan handling outlier terlebih dulu, maka kemungkinan data yang akan dibuang lebih banyak. Oleh karena itu, kami melakukan log transformation terlebih dulu dengan harapan data semakin terdistribusi dengan normal sehingga data yang terindikasi outlier lebih sedikit."
      ]
    },
    {
      "cell_type": "code",
      "execution_count": null,
      "metadata": {
        "id": "3bW3O6QI61VF"
      },
      "outputs": [],
      "source": [
        "# # KDE sebelum transformation\n",
        "# cols = ['odometer']\n",
        "\n",
        "# plt.figure(figsize=(8, 6))\n",
        "# for i in range(len(cols)):\n",
        "#   plt.subplot(3, 1, i+1)\n",
        "#   sns.histplot(data=df, x=df[cols[i]], kde=True)\n",
        "#   plt.tight_layout()"
      ]
    },
    {
      "cell_type": "markdown",
      "metadata": {
        "id": "eY3-QC8U_QVy"
      },
      "source": [
        "### 3.4.1 Transformasi dengan Pangkat 1/3"
      ]
    },
    {
      "cell_type": "code",
      "execution_count": null,
      "metadata": {
        "colab": {
          "base_uri": "https://localhost:8080/"
        },
        "id": "pIduwo_Y-HpG",
        "outputId": "67da88eb-c50a-499a-ead0-f3508b946ebe"
      },
      "outputs": [
        {
          "name": "stdout",
          "output_type": "stream",
          "text": [
            "Skew value: 0.0656155379397687\n"
          ]
        }
      ],
      "source": [
        "df['odometer_pow'] = df['odometer'].apply(lambda x : x**(1/3))\n",
        "print('Skew value:', df['odometer_pow'].skew())\n",
        "\n",
        "# # KDE setelah transformation dengan pangkat 1/3\n",
        "# cols = ['odometer_pow']\n",
        "\n",
        "# plt.figure(figsize=(8, 6))\n",
        "# for i in range(len(cols)):\n",
        "#   plt.subplot(3, 1, i+1)\n",
        "#   sns.histplot(data=df, x=df[cols[i]], kde=True)\n",
        "#   plt.tight_layout()"
      ]
    },
    {
      "cell_type": "markdown",
      "metadata": {
        "id": "9BTLzmvtQ16o"
      },
      "source": [
        "### 3.4.2 PowerTransformer <br>\n",
        "[PowerTransformer](https://medium.com/towards-data-science/how-to-differentiate-between-scaling-normalization-and-log-transformations-69873d365a94)"
      ]
    },
    {
      "cell_type": "code",
      "execution_count": null,
      "metadata": {
        "colab": {
          "base_uri": "https://localhost:8080/"
        },
        "id": "-cLhv8LkOY4p",
        "outputId": "9eea16e0-e547-44eb-afdd-8bc2d29e9745"
      },
      "outputs": [
        {
          "name": "stdout",
          "output_type": "stream",
          "text": [
            "Skew value: 0.012277500663525181\n"
          ]
        }
      ],
      "source": [
        "# Transformasi dengan PowerTransformer\n",
        "from sklearn.preprocessing import PowerTransformer\n",
        "df['odometer_pt'] = PowerTransformer().fit_transform(df['odometer'].values.reshape(len(df), 1))\n",
        "print('Skew value:', df['odometer_pt'].skew())\n",
        "\n",
        "# # KDE setelah Transformasi dengan PowerTransformer\n",
        "# cols = ['odometer_pt']\n",
        "\n",
        "# plt.figure(figsize=(8, 6))\n",
        "# for i in range(len(cols)):\n",
        "#   plt.subplot(3, 1, i+1)\n",
        "#   sns.histplot(data=df, x=df[cols[i]], kde=True)\n",
        "#   plt.tight_layout()"
      ]
    },
    {
      "cell_type": "markdown",
      "metadata": {
        "id": "0IlgjebMKxFG"
      },
      "source": [
        "Berdasarkan nilai skew, kami memilih menggunakan hasil transformasi dari PowerTransformer (odometer_pt)"
      ]
    },
    {
      "cell_type": "code",
      "execution_count": null,
      "metadata": {
        "id": "kWK6Xj2sQE8c"
      },
      "outputs": [],
      "source": [
        "# Drop kolom odometer_pow\n",
        "df = df.drop(columns='odometer_pow')"
      ]
    },
    {
      "cell_type": "markdown",
      "metadata": {
        "id": "TUeBOHCG-fgO"
      },
      "source": [
        "## 3.5. Handling Outliers <br>\n",
        "Handling outlier dilakukan pada kolom `odometer_pt` dan `sellingprice`."
      ]
    },
    {
      "cell_type": "code",
      "execution_count": null,
      "metadata": {
        "colab": {
          "base_uri": "https://localhost:8080/"
        },
        "id": "8ZvLHiuGUjJh",
        "outputId": "82477e4f-895a-42b4-9a2f-3e7aa2ade311"
      },
      "outputs": [
        {
          "name": "stdout",
          "output_type": "stream",
          "text": [
            "Jumlah Baris sebelum filter: 533660 \n",
            "\n"
          ]
        }
      ],
      "source": [
        "# Boxplot sebelum handling outlier\n",
        "cols = ['odometer_pt', 'sellingprice']\n",
        "\n",
        "# plt.figure(figsize=(9,6))\n",
        "# for i in range(len(cols)):\n",
        "#     plt.subplot(1, len(cols), i+1)\n",
        "#     sns.boxplot(y = df[cols[i]], orient = 'v')\n",
        "#     plt.tight_layout()\n",
        "\n",
        "rows_before_filt = len(df)\n",
        "print('Jumlah Baris sebelum filter:', rows_before_filt, '\\n')"
      ]
    },
    {
      "cell_type": "code",
      "execution_count": null,
      "metadata": {
        "colab": {
          "base_uri": "https://localhost:8080/"
        },
        "id": "sHzGO3erURhR",
        "outputId": "721335d5-5c5c-4a88-ce73-2b0bee6e715b"
      },
      "outputs": [
        {
          "name": "stdout",
          "output_type": "stream",
          "text": [
            "Jumlah baris setelah memfilter outlier: 525058\n",
            "Persentase outlier yang dibuang: 1.61\n"
          ]
        }
      ],
      "source": [
        "# Handling outlier dengan z-score\n",
        "cols = ['odometer_pt', 'sellingprice']\n",
        "\n",
        "filtered_entries = np.array([True] * len(df))\n",
        "\n",
        "for col in cols:\n",
        "    zscore = abs(stats.zscore(df[col]))                       # hitung absolute z-scorenya\n",
        "    filtered_entries = (zscore < 3) & filtered_entries        # keep yang kurang dari 3 absolute z-scorenya\n",
        "    \n",
        "df = df[filtered_entries]                                     # filter, cuma ambil yang z-scorenya dibawah 3\n",
        "\n",
        "# Total baris yang dibuang\n",
        "rows_after_filt = len(df)\n",
        "diff = round((rows_before_filt - rows_after_filt) / rows_before_filt * 100, 2)\n",
        "print(f'Jumlah baris setelah memfilter outlier: {len(df)}')\n",
        "print(f'Persentase outlier yang dibuang:', diff)"
      ]
    },
    {
      "cell_type": "code",
      "execution_count": null,
      "metadata": {
        "id": "gX6S3S35RZCg"
      },
      "outputs": [],
      "source": [
        "# # Boxplot setelah PowerTransformer dan handlingoutlier\n",
        "# cols = ['odometer_pt', 'sellingprice']\n",
        "# plt.figure(figsize=(9,6))\n",
        "# for i in range(len(cols)):\n",
        "#     plt.subplot(1, len(cols), i+1)\n",
        "#     sns.boxplot(y = df[cols[i]], orient = 'v')\n",
        "#     plt.tight_layout()"
      ]
    },
    {
      "cell_type": "code",
      "execution_count": null,
      "metadata": {
        "id": "dewDhUpmnIvq"
      },
      "outputs": [],
      "source": [
        "# # KDE odometer_pt dan sellingprice setelah handling outlier\n",
        "# cols = ['odometer_pt', 'sellingprice']\n",
        "# plt.figure(figsize=(8, 6))\n",
        "# for i in range(len(cols)):\n",
        "#   plt.subplot(3, 1, i+1)\n",
        "#   sns.histplot(data=df, x=df[cols[i]], kde=True)\n",
        "#   plt.tight_layout()"
      ]
    },
    {
      "cell_type": "markdown",
      "metadata": {
        "id": "wzOSg62T8p08"
      },
      "source": [
        "## 3.6. Feature Extraction <br>\n"
      ]
    },
    {
      "cell_type": "markdown",
      "metadata": {
        "id": "vr9r91G5OR_j"
      },
      "source": [
        "### 3.6.1 New Column: Car Age"
      ]
    },
    {
      "cell_type": "code",
      "execution_count": null,
      "metadata": {
        "colab": {
          "base_uri": "https://localhost:8080/"
        },
        "id": "-Myxa6TnOf1x",
        "outputId": "06d90907-3760-47a9-d5d1-67bb99de3208"
      },
      "outputs": [
        {
          "name": "stdout",
          "output_type": "stream",
          "text": [
            "format saledate original:\n",
            " Tue Dec 16 2014 12:30:00 GMT-0800 (PST)\n"
          ]
        }
      ],
      "source": [
        "# Format awal kolom saledate\n",
        "print('format saledate original:\\n', df.saledate[0])\n",
        "\n",
        "# Transform kolom saledate\n",
        "df['saledate'] = df['saledate'].apply(lambda x:re.search('(\\w+\\s\\d{2}\\s\\d{4})',x).group(1))\n",
        "df['saledate'] = pd.to_datetime(df['saledate'], format='%b %d %Y')"
      ]
    },
    {
      "cell_type": "code",
      "execution_count": null,
      "metadata": {
        "colab": {
          "base_uri": "https://localhost:8080/"
        },
        "id": "UWz4uALBOf4T",
        "outputId": "ead4282c-4a41-493a-fdf2-96f9e4cd1e47"
      },
      "outputs": [
        {
          "name": "stdout",
          "output_type": "stream",
          "text": [
            "Unique value car age: [-1  1  0  2  3  4  5  6  7  8  9 10 11 12 13 14 15 16 18 19 17 20 22 23\n",
            " 21 24 25]\n"
          ]
        }
      ],
      "source": [
        "# Buat kolom baru saledate_year\n",
        "df['saledate_year'] = df['saledate'].dt.year\n",
        "\n",
        "# Buat kolom baru Car Age (Car age = saledate_year - year <tahun produksi mobil>)\n",
        "df['car_age'] = df['saledate_year'] - df['year']\n",
        "print('Unique value car age:', df['car_age'].unique())"
      ]
    },
    {
      "cell_type": "code",
      "execution_count": null,
      "metadata": {
        "id": "Swoe_cYXOgCD"
      },
      "outputs": [],
      "source": [
        "# Drop baris yang mengandung nilai < 0 pada kolom Car Age (terdapat 141 baris yg car age < 0)\n",
        "df = df[df['car_age'] >= 0]\n",
        "\n",
        "# Drop kolom saledate dan year\n",
        "df = df.drop(columns=['saledate', 'year'])"
      ]
    },
    {
      "cell_type": "code",
      "execution_count": null,
      "metadata": {
        "colab": {
          "base_uri": "https://localhost:8080/"
        },
        "id": "2KIU4QIDf8Sw",
        "outputId": "d4ec1cae-800e-43eb-8772-475727dd493d"
      },
      "outputs": [
        {
          "name": "stdout",
          "output_type": "stream",
          "text": [
            "Skew value: 0.005011404205303489\n"
          ]
        }
      ],
      "source": [
        "# PowerTransform Car Age\n",
        "df['car_age_pt'] = PowerTransformer().fit_transform(df['car_age'].values.reshape(len(df), 1))\n",
        "print('Skew value:', df['car_age_pt'].skew())\n",
        "\n",
        "# # KDE car_age\n",
        "# cols = ['car_age', 'car_age_pt']\n",
        "# plt.figure(figsize=(8, 6))\n",
        "# for i in range(len(cols)):\n",
        "#   plt.subplot(len(cols), 1, i+1)\n",
        "#   sns.histplot(data=df, x=df[cols[i]], kde=True)\n",
        "#   plt.tight_layout()"
      ]
    },
    {
      "cell_type": "code",
      "execution_count": null,
      "metadata": {
        "id": "LrBwDyIwgq2g"
      },
      "outputs": [],
      "source": [
        "# Drop car age\n",
        "df = df.drop(columns='car_age')"
      ]
    },
    {
      "cell_type": "markdown",
      "metadata": {
        "id": "TRnNEfQfcZZ1"
      },
      "source": [
        "## 3.7. Feature Selection <br>\n",
        "Feature yang akan digunakan dalam membangun model adalah:\n",
        "- **Categorical**: color_new, interior_new, model, transmission\n",
        "- **Numerical**: car_age_pt, odometer_pt, condition.\n",
        "- Kolom yang **di-drop**:\n",
        "  - year -> kolom ini digantikan dengan kolom car_age\n",
        "  - trim, vin -> karena high cardinality\n",
        "  - make, body -> unique terhadap model\n",
        "  - state -> karena KDE-nya sama-sama saja (?)\n",
        "  - seller, mmr -> high cardinality\n",
        "  - saledate -> high cardinality\n",
        "\n",
        "KOLOM YANG PERLU DISTANDARISASI SETELAH SPLITTING:\n",
        "car_age_pt, odometer_pt, condition\n",
        "\n",
        "Karena terdapat banyak sekali data unique pada model, maka hanya digunakan 30 model teratas."
      ]
    },
    {
      "cell_type": "code",
      "execution_count": null,
      "metadata": {
        "colab": {
          "base_uri": "https://localhost:8080/"
        },
        "id": "QHdZGCX_cdIx",
        "outputId": "03f97e46-dd40-46db-c814-d64717b3efda"
      },
      "outputs": [
        {
          "data": {
            "text/plain": [
              "(231478, 8)"
            ]
          },
          "execution_count": 34,
          "metadata": {},
          "output_type": "execute_result"
        }
      ],
      "source": [
        "# Feature yang dipilih untuk memprediksi sellingprice\n",
        "df = df[['color_new', 'interior_new', 'model', 'transmission',\n",
        "         'car_age_pt', 'odometer_pt', 'condition', 'sellingprice']]\n",
        "\n",
        "g_m = df.groupby('model')['transmission'].count()\n",
        "g_m.sort_values(ascending=False, inplace=True)\n",
        "g_m = g_m.reset_index()\n",
        "g_m = g_m.iloc[:30, 0]\n",
        "\n",
        "model_new = [i for i in g_m]\n",
        "\n",
        "df = df[df['model'].isin(model_new)]\n",
        "df.shape"
      ]
    },
    {
      "cell_type": "markdown",
      "metadata": {
        "id": "tnVHg19hLVmZ"
      },
      "source": [
        "## 3.8. Feature encoding"
      ]
    },
    {
      "cell_type": "markdown",
      "metadata": {
        "id": "zxGL7vdhoMLu"
      },
      "source": [
        "### 3.8.1 Label Encoding"
      ]
    },
    {
      "cell_type": "code",
      "execution_count": null,
      "metadata": {
        "id": "gLwhl8UhnknT"
      },
      "outputs": [],
      "source": [
        "# Label encoding -> kolom transmission\n",
        "mapping_trans = {\n",
        "    'automatic' : 0,\n",
        "    'manual' : 1\n",
        "}\n",
        "\n",
        "df['transmission'] = df['transmission'].map(mapping_trans)"
      ]
    },
    {
      "cell_type": "markdown",
      "metadata": {
        "id": "N981XjAkszam"
      },
      "source": [
        "### 3.8.2 One Hot Encoding"
      ]
    },
    {
      "cell_type": "code",
      "execution_count": null,
      "metadata": {
        "id": "ek74ysdln0AM"
      },
      "outputs": [],
      "source": [
        "# OHE -> kolom color_new, interior_new, make_new, body_new\n",
        "\n",
        "cols_OHE = ['color_new', 'interior_new', 'model']\n",
        "\n",
        "for i in cols_OHE:\n",
        "    onehots = pd.get_dummies(df[i], prefix=i, drop_first=True)  # drop_first=True utk menghindari multicollinearity\n",
        "    df = df.merge(onehots, how='outer', right_index = True, left_index = True)"
      ]
    },
    {
      "cell_type": "markdown",
      "metadata": {
        "id": "kSPkhNkR_ozP"
      },
      "source": [
        "### 3.8.3 Drop the columns that have been done Feature Encoding <br>\n",
        "Kolom yang telah dilakukan OHE akan di-drop"
      ]
    },
    {
      "cell_type": "code",
      "execution_count": null,
      "metadata": {
        "id": "yymMrhVFAaxf"
      },
      "outputs": [],
      "source": [
        "df = df.drop(columns=cols_OHE)"
      ]
    },
    {
      "cell_type": "markdown",
      "metadata": {
        "id": "nK4WM9BrkDTY"
      },
      "source": [
        "## 3.9. All Features\n",
        "- [split_data](https://towardsdatascience.com/how-to-split-a-dataset-into-training-and-testing-sets-b146b1649830)\n",
        "- [Using StandarScaler() after split data](https://datascience.stackexchange.com/questions/38395/standardscaler-before-and-after-splitting-data)\n",
        "- https://scikit-learn.org/stable/common_pitfalls.html"
      ]
    },
    {
      "cell_type": "code",
      "execution_count": null,
      "metadata": {
        "colab": {
          "base_uri": "https://localhost:8080/",
          "height": 240
        },
        "id": "HG0H1YZZkQVL",
        "outputId": "926a9435-57a1-4eb3-98f3-a45e21f8db94"
      },
      "outputs": [
        {
          "data": {
            "text/html": [
              "\n",
              "  <div id=\"df-2aeff96c-c0bf-4dca-8881-8e1e27e56072\">\n",
              "    <div class=\"colab-df-container\">\n",
              "      <div>\n",
              "<style scoped>\n",
              "    .dataframe tbody tr th:only-of-type {\n",
              "        vertical-align: middle;\n",
              "    }\n",
              "\n",
              "    .dataframe tbody tr th {\n",
              "        vertical-align: top;\n",
              "    }\n",
              "\n",
              "    .dataframe thead th {\n",
              "        text-align: right;\n",
              "    }\n",
              "</style>\n",
              "<table border=\"1\" class=\"dataframe\">\n",
              "  <thead>\n",
              "    <tr style=\"text-align: right;\">\n",
              "      <th></th>\n",
              "      <th>transmission</th>\n",
              "      <th>car_age_pt</th>\n",
              "      <th>odometer_pt</th>\n",
              "      <th>condition</th>\n",
              "      <th>sellingprice</th>\n",
              "      <th>color_new_blue</th>\n",
              "      <th>color_new_brown</th>\n",
              "      <th>color_new_gold</th>\n",
              "      <th>color_new_gray</th>\n",
              "      <th>color_new_green</th>\n",
              "      <th>...</th>\n",
              "      <th>model_Jetta</th>\n",
              "      <th>model_Malibu</th>\n",
              "      <th>model_Maxima</th>\n",
              "      <th>model_Mustang</th>\n",
              "      <th>model_Rogue</th>\n",
              "      <th>model_Sentra</th>\n",
              "      <th>model_Silverado 1500</th>\n",
              "      <th>model_Sonata</th>\n",
              "      <th>model_Taurus</th>\n",
              "      <th>model_Town and Country</th>\n",
              "    </tr>\n",
              "  </thead>\n",
              "  <tbody>\n",
              "    <tr>\n",
              "      <th>2</th>\n",
              "      <td>0</td>\n",
              "      <td>-1.306077</td>\n",
              "      <td>-2.604439</td>\n",
              "      <td>4.5</td>\n",
              "      <td>30000</td>\n",
              "      <td>0</td>\n",
              "      <td>0</td>\n",
              "      <td>0</td>\n",
              "      <td>1</td>\n",
              "      <td>0</td>\n",
              "      <td>...</td>\n",
              "      <td>0</td>\n",
              "      <td>0</td>\n",
              "      <td>0</td>\n",
              "      <td>0</td>\n",
              "      <td>0</td>\n",
              "      <td>0</td>\n",
              "      <td>0</td>\n",
              "      <td>0</td>\n",
              "      <td>0</td>\n",
              "      <td>0</td>\n",
              "    </tr>\n",
              "    <tr>\n",
              "      <th>7</th>\n",
              "      <td>0</td>\n",
              "      <td>-2.422727</td>\n",
              "      <td>-0.673565</td>\n",
              "      <td>2.0</td>\n",
              "      <td>9800</td>\n",
              "      <td>0</td>\n",
              "      <td>0</td>\n",
              "      <td>0</td>\n",
              "      <td>0</td>\n",
              "      <td>0</td>\n",
              "      <td>...</td>\n",
              "      <td>0</td>\n",
              "      <td>0</td>\n",
              "      <td>0</td>\n",
              "      <td>0</td>\n",
              "      <td>0</td>\n",
              "      <td>0</td>\n",
              "      <td>0</td>\n",
              "      <td>0</td>\n",
              "      <td>0</td>\n",
              "      <td>0</td>\n",
              "    </tr>\n",
              "  </tbody>\n",
              "</table>\n",
              "<p>2 rows × 53 columns</p>\n",
              "</div>\n",
              "      <button class=\"colab-df-convert\" onclick=\"convertToInteractive('df-2aeff96c-c0bf-4dca-8881-8e1e27e56072')\"\n",
              "              title=\"Convert this dataframe to an interactive table.\"\n",
              "              style=\"display:none;\">\n",
              "        \n",
              "  <svg xmlns=\"http://www.w3.org/2000/svg\" height=\"24px\"viewBox=\"0 0 24 24\"\n",
              "       width=\"24px\">\n",
              "    <path d=\"M0 0h24v24H0V0z\" fill=\"none\"/>\n",
              "    <path d=\"M18.56 5.44l.94 2.06.94-2.06 2.06-.94-2.06-.94-.94-2.06-.94 2.06-2.06.94zm-11 1L8.5 8.5l.94-2.06 2.06-.94-2.06-.94L8.5 2.5l-.94 2.06-2.06.94zm10 10l.94 2.06.94-2.06 2.06-.94-2.06-.94-.94-2.06-.94 2.06-2.06.94z\"/><path d=\"M17.41 7.96l-1.37-1.37c-.4-.4-.92-.59-1.43-.59-.52 0-1.04.2-1.43.59L10.3 9.45l-7.72 7.72c-.78.78-.78 2.05 0 2.83L4 21.41c.39.39.9.59 1.41.59.51 0 1.02-.2 1.41-.59l7.78-7.78 2.81-2.81c.8-.78.8-2.07 0-2.86zM5.41 20L4 18.59l7.72-7.72 1.47 1.35L5.41 20z\"/>\n",
              "  </svg>\n",
              "      </button>\n",
              "      \n",
              "  <style>\n",
              "    .colab-df-container {\n",
              "      display:flex;\n",
              "      flex-wrap:wrap;\n",
              "      gap: 12px;\n",
              "    }\n",
              "\n",
              "    .colab-df-convert {\n",
              "      background-color: #E8F0FE;\n",
              "      border: none;\n",
              "      border-radius: 50%;\n",
              "      cursor: pointer;\n",
              "      display: none;\n",
              "      fill: #1967D2;\n",
              "      height: 32px;\n",
              "      padding: 0 0 0 0;\n",
              "      width: 32px;\n",
              "    }\n",
              "\n",
              "    .colab-df-convert:hover {\n",
              "      background-color: #E2EBFA;\n",
              "      box-shadow: 0px 1px 2px rgba(60, 64, 67, 0.3), 0px 1px 3px 1px rgba(60, 64, 67, 0.15);\n",
              "      fill: #174EA6;\n",
              "    }\n",
              "\n",
              "    [theme=dark] .colab-df-convert {\n",
              "      background-color: #3B4455;\n",
              "      fill: #D2E3FC;\n",
              "    }\n",
              "\n",
              "    [theme=dark] .colab-df-convert:hover {\n",
              "      background-color: #434B5C;\n",
              "      box-shadow: 0px 1px 3px 1px rgba(0, 0, 0, 0.15);\n",
              "      filter: drop-shadow(0px 1px 2px rgba(0, 0, 0, 0.3));\n",
              "      fill: #FFFFFF;\n",
              "    }\n",
              "  </style>\n",
              "\n",
              "      <script>\n",
              "        const buttonEl =\n",
              "          document.querySelector('#df-2aeff96c-c0bf-4dca-8881-8e1e27e56072 button.colab-df-convert');\n",
              "        buttonEl.style.display =\n",
              "          google.colab.kernel.accessAllowed ? 'block' : 'none';\n",
              "\n",
              "        async function convertToInteractive(key) {\n",
              "          const element = document.querySelector('#df-2aeff96c-c0bf-4dca-8881-8e1e27e56072');\n",
              "          const dataTable =\n",
              "            await google.colab.kernel.invokeFunction('convertToInteractive',\n",
              "                                                     [key], {});\n",
              "          if (!dataTable) return;\n",
              "\n",
              "          const docLinkHtml = 'Like what you see? Visit the ' +\n",
              "            '<a target=\"_blank\" href=https://colab.research.google.com/notebooks/data_table.ipynb>data table notebook</a>'\n",
              "            + ' to learn more about interactive tables.';\n",
              "          element.innerHTML = '';\n",
              "          dataTable['output_type'] = 'display_data';\n",
              "          await google.colab.output.renderOutput(dataTable, element);\n",
              "          const docLink = document.createElement('div');\n",
              "          docLink.innerHTML = docLinkHtml;\n",
              "          element.appendChild(docLink);\n",
              "        }\n",
              "      </script>\n",
              "    </div>\n",
              "  </div>\n",
              "  "
            ],
            "text/plain": [
              "   transmission  car_age_pt  odometer_pt  condition  sellingprice  \\\n",
              "2             0   -1.306077    -2.604439        4.5         30000   \n",
              "7             0   -2.422727    -0.673565        2.0          9800   \n",
              "\n",
              "   color_new_blue  color_new_brown  color_new_gold  color_new_gray  \\\n",
              "2               0                0               0               1   \n",
              "7               0                0               0               0   \n",
              "\n",
              "   color_new_green  ...  model_Jetta  model_Malibu  model_Maxima  \\\n",
              "2                0  ...            0             0             0   \n",
              "7                0  ...            0             0             0   \n",
              "\n",
              "   model_Mustang  model_Rogue  model_Sentra  model_Silverado 1500  \\\n",
              "2              0            0             0                     0   \n",
              "7              0            0             0                     0   \n",
              "\n",
              "   model_Sonata  model_Taurus  model_Town and Country  \n",
              "2             0             0                       0  \n",
              "7             0             0                       0  \n",
              "\n",
              "[2 rows x 53 columns]"
            ]
          },
          "execution_count": 38,
          "metadata": {},
          "output_type": "execute_result"
        }
      ],
      "source": [
        "df.head(2)"
      ]
    },
    {
      "cell_type": "code",
      "execution_count": null,
      "metadata": {
        "colab": {
          "base_uri": "https://localhost:8080/"
        },
        "id": "acXwumzZkApi",
        "outputId": "eeca7ccf-942a-44cd-c001-2fc5b9f7f8fd"
      },
      "outputs": [
        {
          "data": {
            "text/plain": [
              "Index(['transmission', 'car_age_pt', 'odometer_pt', 'condition',\n",
              "       'sellingprice', 'color_new_blue', 'color_new_brown', 'color_new_gold',\n",
              "       'color_new_gray', 'color_new_green', 'color_new_orange',\n",
              "       'color_new_pink', 'color_new_red', 'color_new_silver',\n",
              "       'color_new_white', 'interior_new_blue', 'interior_new_brown',\n",
              "       'interior_new_gold', 'interior_new_gray', 'interior_new_green',\n",
              "       'interior_new_orange', 'interior_new_red', 'interior_new_silver',\n",
              "       'interior_new_white', 'model_Accord', 'model_Altima', 'model_C-Class',\n",
              "       'model_Camry', 'model_Civic', 'model_Corolla', 'model_Cruze',\n",
              "       'model_Edge', 'model_Elantra', 'model_Equinox', 'model_Escape',\n",
              "       'model_Explorer', 'model_F-150', 'model_Focus', 'model_Fusion',\n",
              "       'model_G Sedan', 'model_Grand Caravan', 'model_Grand Cherokee',\n",
              "       'model_Impala', 'model_Jetta', 'model_Malibu', 'model_Maxima',\n",
              "       'model_Mustang', 'model_Rogue', 'model_Sentra', 'model_Silverado 1500',\n",
              "       'model_Sonata', 'model_Taurus', 'model_Town and Country'],\n",
              "      dtype='object')"
            ]
          },
          "execution_count": 39,
          "metadata": {},
          "output_type": "execute_result"
        }
      ],
      "source": [
        "df.columns"
      ]
    },
    {
      "cell_type": "code",
      "execution_count": null,
      "metadata": {
        "colab": {
          "base_uri": "https://localhost:8080/"
        },
        "id": "5kQO0586mO4Y",
        "outputId": "23abadf3-354a-4636-f987-27f1849dcfac"
      },
      "outputs": [
        {
          "data": {
            "text/plain": [
              "(231478, 53)"
            ]
          },
          "execution_count": 40,
          "metadata": {},
          "output_type": "execute_result"
        }
      ],
      "source": [
        "df.shape"
      ]
    },
    {
      "cell_type": "code",
      "execution_count": null,
      "metadata": {
        "colab": {
          "base_uri": "https://localhost:8080/"
        },
        "id": "CTuOEXN-tvBF",
        "outputId": "106ec83b-60c0-437b-c502-fced2a13616a"
      },
      "outputs": [
        {
          "name": "stdout",
          "output_type": "stream",
          "text": [
            "Total training data: 162034\n",
            "Total testing data: 69444\n"
          ]
        }
      ],
      "source": [
        "# Split Dataset\n",
        "from sklearn.model_selection import train_test_split\n",
        "training_data, testing_data = train_test_split(df, test_size=0.3, random_state=25)\n",
        "\n",
        "print('Total training data:', training_data.shape[0])\n",
        "print('Total testing data:', testing_data.shape[0])"
      ]
    },
    {
      "cell_type": "code",
      "execution_count": null,
      "metadata": {
        "id": "Kd_VpiX2ZMyP"
      },
      "outputs": [],
      "source": [
        "# Save to csv\n",
        "training_data.to_csv('train_data.csv', index=False)\n",
        "testing_data.to_csv('test_data.csv', index=False)"
      ]
    },
    {
      "cell_type": "code",
      "execution_count": null,
      "metadata": {
        "id": "kIX6SSDSeu6s"
      },
      "outputs": [],
      "source": [
        "# Splitting data\n",
        "\n",
        "X_train = training_data.drop(columns=['sellingprice'])\n",
        "y_train =  training_data['sellingprice']\n",
        "\n",
        "X_test = testing_data.drop(columns=['sellingprice'])\n",
        "y_test = testing_data['sellingprice']"
      ]
    },
    {
      "cell_type": "code",
      "execution_count": null,
      "metadata": {
        "id": "y-c7F93tfbRS"
      },
      "outputs": [],
      "source": [
        "# Standarisasi Features\n",
        "from sklearn.preprocessing import StandardScaler\n",
        "\n",
        "ss = StandardScaler()\n",
        "X_train = ss.fit_transform(X_train)\n",
        "X_test = ss.transform (X_test)"
      ]
    },
    {
      "cell_type": "code",
      "execution_count": null,
      "metadata": {
        "id": "BxwdE4Z_e6mi"
      },
      "outputs": [],
      "source": [
        "# # Fitting simple linear regression to the Training Set\n",
        "# from sklearn.ensemble import RandomForestClassifier as RF\n",
        "\n",
        "# regressor = RF()\n",
        "# regressor.fit(X_train, y_train)"
      ]
    },
    {
      "cell_type": "code",
      "execution_count": null,
      "metadata": {
        "id": "J5vtuOXf9-Po"
      },
      "outputs": [],
      "source": [
        "# # Model Evaluation\n",
        "#y_pred_train = regressor(X_train)\n",
        "# y_pred_test = regressor(X_test)"
      ]
    },
    {
      "cell_type": "code",
      "execution_count": null,
      "metadata": {
        "colab": {
          "base_uri": "https://localhost:8080/"
        },
        "id": "I-nZlSiSDqib",
        "outputId": "5c99bacc-8969-4ca7-96b7-f49302b0633c"
      },
      "outputs": [
        {
          "name": "stdout",
          "output_type": "stream",
          "text": [
            "MSE: 2176.115976212102\n",
            "MAE: 1422.5102927630164\n",
            "R2: 0.9007873138089466\n"
          ]
        }
      ],
      "source": [
        "from sklearn.ensemble import RandomForestRegressor\n",
        "rf = RandomForestRegressor()\n",
        "rf.fit(X_train, y_train)\n",
        "\n",
        "y_pred = rf.predict(X_test)\n",
        "from sklearn.metrics import mean_squared_error, mean_absolute_error, r2_score\n",
        "print('MSE: '+str(mean_squared_error(y_test, y_pred, squared=False)))\n",
        "print('MAE: '+str(mean_absolute_error(y_test, y_pred)))\n",
        "print('R2: '+str(r2_score(y_test, y_pred)))"
      ]
    },
    {
      "cell_type": "code",
      "execution_count": null,
      "metadata": {
        "colab": {
          "base_uri": "https://localhost:8080/"
        },
        "id": "8n50OYlZEEtM",
        "outputId": "2478c63e-7c24-497b-fbdf-f5c7cdccb44b"
      },
      "outputs": [
        {
          "name": "stderr",
          "output_type": "stream",
          "text": [
            "/usr/local/lib/python3.7/dist-packages/sklearn/model_selection/_search.py:296: UserWarning: The total space of parameters 4 is smaller than n_iter=10. Running 4 iterations. For exhaustive searches, use GridSearchCV.\n",
            "  UserWarning,\n"
          ]
        },
        {
          "name": "stdout",
          "output_type": "stream",
          "text": [
            "r2: 0.9007873138089466\n",
            "RandomizedSearchCV(cv=5, estimator=Ridge(),\n",
            "                   param_distributions={'alpha': [0.01, 0.1, 1, 2],\n",
            "                                        'solver': ['lsqr']},\n",
            "                   scoring='r2')\n"
          ]
        }
      ],
      "source": [
        "from sklearn.model_selection import RandomizedSearchCV, GridSearchCV\n",
        "from sklearn.linear_model import Ridge\n",
        "# list dari hyperparameter\n",
        "alpha = [0.01, 0.1, 1, 2] # alpha / 𝛌\n",
        "solver = ['lsqr'] #menggunakan least-square routine\n",
        "hyperparameters = dict(alpha=alpha, solver=solver)\n",
        "# Fit model\n",
        "model = Ridge() \n",
        "clf = RandomizedSearchCV(model, hyperparameters, cv=5, scoring='r2')# randomize search dengan 5-fold cross-val\n",
        "best_model = clf.fit(X_train, y_train)\n",
        "print('r2: '+str(r2_score(y_test, y_pred)))\n",
        "print(best_model)"
      ]
    },
    {
      "cell_type": "code",
      "execution_count": null,
      "metadata": {
        "colab": {
          "background_save": true
        },
        "id": "4WgCMC48pYXz",
        "outputId": "2900e456-9df8-462a-ce8f-d66ba2fdf017"
      },
      "outputs": [
        {
          "name": "stdout",
          "output_type": "stream",
          "text": [
            "MSE: 2176.115976212102\n",
            "MAE: 1422.5102927630164\n",
            "R2: 0.9007873138089466\n"
          ]
        }
      ],
      "source": [
        "print('MSE: '+str(mean_squared_error(y_test, y_pred, squared=False)))\n",
        "print('MAE: '+str(mean_absolute_error(y_test, y_pred)))\n",
        "print('R2: '+str(r2_score(y_test, y_pred)))"
      ]
    },
    {
      "cell_type": "code",
      "execution_count": null,
      "metadata": {
        "id": "QmymCuoIrudW"
      },
      "outputs": [],
      "source": [
        ""
      ]
    }
  ],
  "metadata": {
    "colab": {
      "collapsed_sections": [],
      "name": "Copy of FP STAGE 2_NEW.ipynb",
      "provenance": []
    },
    "kernelspec": {
      "display_name": "Python 3",
      "name": "python3"
    },
    "language_info": {
      "name": "python"
    }
  },
  "nbformat": 4,
  "nbformat_minor": 0
}