{
 "cells": [
  {
   "cell_type": "markdown",
   "id": "673996f7",
   "metadata": {},
   "source": [
    "## Sebelum Hyperparameter Tuning"
   ]
  },
  {
   "cell_type": "code",
   "execution_count": null,
   "id": "dc8f7060",
   "metadata": {},
   "outputs": [],
   "source": [
    "from sklearn.ensemble import AdaBoostRegressor\n",
    "from sklearn.metrics import mean_squared_error, mean_absolute_error, r2_score\n",
    "\n",
    "regr = AdaBoostRegressor(n_estimators=500,learning_rate=0.5, loss='linear')\n",
    "regr.fit(X_train, y_train)\n",
    "regr.score(X_train, y_train)\n",
    "\n",
    "# Eval Train\n",
    "y_pred_train = regr.predict(X_train)\n",
    "print('Train Score')\n",
    "print(\"RMSE: %.2f\" % mean_squared_error(y_train, y_pred_train, squared=False))\n",
    "print(\"MAE: %.2f\" % mean_absolute_error(y_train, y_pred_train))\n",
    "print('R2 score: %.2f' % r2_score(y_train, y_pred_train))\n",
    "print('='*75)\n",
    "\n",
    "# Eval Test\n",
    "y_pred = regr.predict(X_test)\n",
    "print('Test Score')\n",
    "print(\"RMSE: %.2f\" % mean_squared_error(y_test, y_pred, squared=False))\n",
    "print(\"MAE: %.2f\" % mean_absolute_error(y_test, y_pred))\n",
    "print('R2 score: %.2f' % r2_score(y_test, y_pred))"
   ]
  },
  {
   "cell_type": "markdown",
   "id": "1a5831ce",
   "metadata": {},
   "source": [
    "## Setelah Hyperparameter Tuning"
   ]
  },
  {
   "cell_type": "code",
   "execution_count": null,
   "id": "55f33249",
   "metadata": {},
   "outputs": [],
   "source": [
    "from sklearn.model_selection import RandomizedSearchCV, GridSearchCV\n",
    "from scipy.stats import uniform\n",
    "from sklearn.linear_model import Ridge\n",
    "from sklearn.metrics import mean_squared_error, mean_absolute_error, r2_score\n",
    "\n",
    "alpha = [0.01, 0.1, 1, 2, 5, 10, 100, 200, 230, 250, 265, 270, 275, 290, 300, 500] # alpha\n",
    "solver = ['lsqr', 'auto', 'sag', 'saga', 'cholesky']\n",
    "fit_intercept = [True, False]\n",
    "hyperparameters = dict(alpha=alpha, solver=solver, fit_intercept=fit_intercept)\n",
    "\n",
    "\n",
    "ridge_model = Ridge()\n",
    "reg = RandomizedSearchCV(ridge_model, hyperparameters, cv=5, random_state=42, scoring='r2')\n",
    "\n",
    "#Fitting Model\n",
    "best_model = reg.fit(X_train, y_train)\n",
    "\n",
    "# Eval Train\n",
    "y_pred_train = best_model.predict(X_train)\n",
    "print('Train Score')\n",
    "print(\"RMSE: %.2f\" % mean_squared_error(y_train, y_pred_train, squared=False))\n",
    "print(\"MAE: %.2f\" % mean_absolute_error(y_train, y_pred_train))\n",
    "print('R2 score: %.2f' % r2_score(y_train, y_pred_train))\n",
    "print('='*75)\n",
    "\n",
    "#Eval Test\n",
    "y_pred = best_model.predict(X_test)\n",
    "print('Test Score')\n",
    "print(\"RMSE: %.2f\" % mean_squared_error(y_test, y_pred, squared=False))\n",
    "print(\"MAE: %.2f\" % mean_absolute_error(y_test, y_pred))\n",
    "print('R2 score: %.2f' % r2_score(y_test, y_pred))\n",
    "print('='*75)\n",
    "\n",
    "print('Best solver:', best_model.best_estimator_.get_params()['solver'])\n",
    "print('Best alpha:', best_model.best_estimator_.get_params()['alpha'])"
   ]
  }
 ],
 "metadata": {
  "kernelspec": {
   "display_name": "Python 3 (ipykernel)",
   "language": "python",
   "name": "python3"
  },
  "language_info": {
   "codemirror_mode": {
    "name": "ipython",
    "version": 3
   },
   "file_extension": ".py",
   "mimetype": "text/x-python",
   "name": "python",
   "nbconvert_exporter": "python",
   "pygments_lexer": "ipython3",
   "version": "3.9.7"
  },
  "toc": {
   "base_numbering": 1,
   "nav_menu": {},
   "number_sections": true,
   "sideBar": true,
   "skip_h1_title": false,
   "title_cell": "Table of Contents",
   "title_sidebar": "Contents",
   "toc_cell": false,
   "toc_position": {},
   "toc_section_display": true,
   "toc_window_display": false
  }
 },
 "nbformat": 4,
 "nbformat_minor": 5
}
