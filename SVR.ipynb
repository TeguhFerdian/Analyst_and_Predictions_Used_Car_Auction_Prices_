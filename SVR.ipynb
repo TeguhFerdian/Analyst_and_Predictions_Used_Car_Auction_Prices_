{
 "cells": [
  {
   "cell_type": "code",
   "execution_count": 1,
   "metadata": {},
   "outputs": [],
   "source": [
    "import pandas as pd\n",
    "\n",
    "training_data = pd.read_csv('train_data.csv')\n",
    "testing_data = pd.read_csv('test_data.csv')"
   ]
  },
  {
   "cell_type": "code",
   "execution_count": 2,
   "metadata": {},
   "outputs": [],
   "source": [
    "# Splitting data\n",
    "X_train = training_data.drop(columns=['sellingprice'])\n",
    "y_train =  training_data['sellingprice']\n",
    "\n",
    "X_test = testing_data.drop(columns=['sellingprice'])\n",
    "y_test = testing_data['sellingprice']"
   ]
  },
  {
   "cell_type": "code",
   "execution_count": 3,
   "metadata": {},
   "outputs": [],
   "source": [
    "# Standarisasi Features\n",
    "from sklearn.preprocessing import StandardScaler\n",
    "\n",
    "ss = StandardScaler()\n",
    "X_train = ss.fit_transform(X_train)\n",
    "X_test = ss.transform (X_test)"
   ]
  },
  {
   "cell_type": "code",
   "execution_count": 4,
   "metadata": {},
   "outputs": [
    {
     "data": {
      "text/plain": [
       "SVR()"
      ]
     },
     "execution_count": 4,
     "metadata": {},
     "output_type": "execute_result"
    }
   ],
   "source": [
    "# Fitting SVR to the Training Set\n",
    "from sklearn.svm import SVR\n",
    "\n",
    "svr = SVR()\n",
    "svr.fit(X_train, y_train)"
   ]
  },
  {
   "cell_type": "code",
   "execution_count": 5,
   "metadata": {},
   "outputs": [
    {
     "name": "stdout",
     "output_type": "stream",
     "text": [
      "Train Score\n",
      "MAE: 3938.99\n",
      "RMSE: 5521.72\n",
      "R2 score: -7.44\n",
      "===========================================================================\n",
      "Test Score\n",
      "MAE: 3908.13\n",
      "RMSE: 5472.84\n",
      "R2 score: -7.26\n"
     ]
    }
   ],
   "source": [
    "# Model Evaluation\n",
    "from sklearn.metrics import mean_squared_error, mean_absolute_error, r2_score\n",
    "\n",
    "# Eval Train\n",
    "y_pred_train = svr.predict(X_train)\n",
    "print('Train Score')\n",
    "print(\"MAE: %.2f\" % mean_absolute_error(y_pred_train, y_train)) # The MAE\n",
    "print(\"RMSE: %.2f\" % mean_squared_error(y_pred_train, y_train, squared=False)) # The RMSE\n",
    "print('R2 score: %.2f' % r2_score(y_pred_train, y_train)) # Explained variance score: 1 is perfect prediction\n",
    "print('='*75)\n",
    "\n",
    "# Eval Test\n",
    "y_pred_test = svr.predict(X_test)\n",
    "print('Test Score')\n",
    "print(\"MAE: %.2f\" % mean_absolute_error(y_pred_test, y_test)) # The MAE\n",
    "print(\"RMSE: %.2f\" % mean_squared_error(y_pred_test, y_test, squared=False)) # The RMSE\n",
    "print('R2 score: %.2f' % r2_score(y_pred_test, y_test)) # Explained variance score: 1 is perfect prediction"
   ]
  },
  {
   "cell_type": "code",
   "execution_count": 19,
   "metadata": {},
   "outputs": [
    {
     "data": {
      "image/png": "[encoded data removed]",
      "text/plain": [
       "<Figure size 432x288 with 1 Axes>"
      ]
     },
     "metadata": {
      "needs_background": "light"
     },
     "output_type": "display_data"
    }
   ],
   "source": [
    "# plotting\n",
    "import numpy as np\n",
    "import matplotlib.pyplot as plt\n",
    "length = np.linspace(0, len(y_test), len(y_test))\n",
    "plt.plot(y_test.values, length, '-k', label='orginal')\n",
    "plt.show()"
   ]
  },
  {
   "cell_type": "code",
   "execution_count": 20,
   "metadata": {},
   "outputs": [],
   "source": [
    "df_compared = pd.DataFrame({\n",
    "    'sellingprice_original': y_test,\n",
    "    'sellingprice_predicted': y_pred_test\n",
    "})\n",
    "\n",
    "df_compared['sellingprice_predicted'] = round(df_compared['sellingprice_predicted'], 2)"
   ]
  },
  {
   "cell_type": "code",
   "execution_count": 21,
   "metadata": {},
   "outputs": [
    {
     "data": {
      "text/html": [
       "<div>\n",
       "<style scoped>\n",
       "    .dataframe tbody tr th:only-of-type {\n",
       "        vertical-align: middle;\n",
       "    }\n",
       "\n",
       "    .dataframe tbody tr th {\n",
       "        vertical-align: top;\n",
       "    }\n",
       "\n",
       "    .dataframe thead th {\n",
       "        text-align: right;\n",
       "    }\n",
       "</style>\n",
       "<table border=\"1\" class=\"dataframe\">\n",
       "  <thead>\n",
       "    <tr style=\"text-align: right;\">\n",
       "      <th></th>\n",
       "      <th>sellingprice_original</th>\n",
       "      <th>sellingprice_predicted</th>\n",
       "      <th>diff</th>\n",
       "    </tr>\n",
       "  </thead>\n",
       "  <tbody>\n",
       "    <tr>\n",
       "      <th>0</th>\n",
       "      <td>6200</td>\n",
       "      <td>8977.23</td>\n",
       "      <td>2777.23</td>\n",
       "    </tr>\n",
       "    <tr>\n",
       "      <th>1</th>\n",
       "      <td>2500</td>\n",
       "      <td>8584.72</td>\n",
       "      <td>6084.72</td>\n",
       "    </tr>\n",
       "    <tr>\n",
       "      <th>2</th>\n",
       "      <td>8600</td>\n",
       "      <td>11559.19</td>\n",
       "      <td>2959.19</td>\n",
       "    </tr>\n",
       "    <tr>\n",
       "      <th>3</th>\n",
       "      <td>14200</td>\n",
       "      <td>12884.50</td>\n",
       "      <td>-1315.50</td>\n",
       "    </tr>\n",
       "    <tr>\n",
       "      <th>4</th>\n",
       "      <td>18000</td>\n",
       "      <td>13544.48</td>\n",
       "      <td>-4455.52</td>\n",
       "    </tr>\n",
       "    <tr>\n",
       "      <th>...</th>\n",
       "      <td>...</td>\n",
       "      <td>...</td>\n",
       "      <td>...</td>\n",
       "    </tr>\n",
       "    <tr>\n",
       "      <th>69439</th>\n",
       "      <td>6900</td>\n",
       "      <td>9703.08</td>\n",
       "      <td>2803.08</td>\n",
       "    </tr>\n",
       "    <tr>\n",
       "      <th>69440</th>\n",
       "      <td>9200</td>\n",
       "      <td>10400.77</td>\n",
       "      <td>1200.77</td>\n",
       "    </tr>\n",
       "    <tr>\n",
       "      <th>69441</th>\n",
       "      <td>2800</td>\n",
       "      <td>10630.28</td>\n",
       "      <td>7830.28</td>\n",
       "    </tr>\n",
       "    <tr>\n",
       "      <th>69442</th>\n",
       "      <td>600</td>\n",
       "      <td>10197.59</td>\n",
       "      <td>9597.59</td>\n",
       "    </tr>\n",
       "    <tr>\n",
       "      <th>69443</th>\n",
       "      <td>24600</td>\n",
       "      <td>12548.10</td>\n",
       "      <td>-12051.90</td>\n",
       "    </tr>\n",
       "  </tbody>\n",
       "</table>\n",
       "<p>69444 rows × 3 columns</p>\n",
       "</div>"
      ],
      "text/plain": [
       "       sellingprice_original  sellingprice_predicted      diff\n",
       "0                       6200                 8977.23   2777.23\n",
       "1                       2500                 8584.72   6084.72\n",
       "2                       8600                11559.19   2959.19\n",
       "3                      14200                12884.50  -1315.50\n",
       "4                      18000                13544.48  -4455.52\n",
       "...                      ...                     ...       ...\n",
       "69439                   6900                 9703.08   2803.08\n",
       "69440                   9200                10400.77   1200.77\n",
       "69441                   2800                10630.28   7830.28\n",
       "69442                    600                10197.59   9597.59\n",
       "69443                  24600                12548.10 -12051.90\n",
       "\n",
       "[69444 rows x 3 columns]"
      ]
     },
     "execution_count": 21,
     "metadata": {},
     "output_type": "execute_result"
    }
   ],
   "source": [
    "# minus artinya prediksi harga mobil di bawah harga asli (kita rugi)\n",
    "# positif artinya prediksi harga mobil di atas harga asli (customer akan mikir dua kali utk menjual mobilnya)\n",
    "df_compared['diff'] = round(df_compared['sellingprice_predicted'] - df_compared['sellingprice_original'], 2)\n",
    "df_compared"
   ]
  },
  {
   "cell_type": "code",
   "execution_count": 22,
   "metadata": {},
   "outputs": [],
   "source": [
    "df_compared.to_csv('result_SVR.csv', index=False)"
   ]
  },
  {
   "cell_type": "code",
   "execution_count": null,
   "metadata": {},
   "outputs": [],
   "source": []
  }
 ],
 "metadata": {
  "kernelspec": {
   "display_name": "Python 3",
   "language": "python",
   "name": "python3"
  },
  "language_info": {
   "codemirror_mode": {
    "name": "ipython",
    "version": 3
   },
   "file_extension": ".py",
   "mimetype": "text/x-python",
   "name": "python",
   "nbconvert_exporter": "python",
   "pygments_lexer": "ipython3",
   "version": "3.8.3"
  },
  "toc": {
   "base_numbering": 1,
   "nav_menu": {},
   "number_sections": true,
   "sideBar": true,
   "skip_h1_title": false,
   "title_cell": "Table of Contents",
   "title_sidebar": "Contents",
   "toc_cell": false,
   "toc_position": {},
   "toc_section_display": true,
   "toc_window_display": false
  }
 },
 "nbformat": 4,
 "nbformat_minor": 4
}
