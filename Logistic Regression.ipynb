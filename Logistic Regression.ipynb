{
 "cells": [
  {
   "cell_type": "markdown",
   "metadata": {
    "id": "TRN4pngk_Nt-"
   },
   "source": [
    "***STAGE 2: DATA PRE-PROCESSING***"
   ]
  },
  {
   "cell_type": "markdown",
   "metadata": {
    "id": "oSC5GlZMaKd1"
   },
   "source": [
    "# **1. Import Libraries**"
   ]
  },
  {
   "cell_type": "code",
   "execution_count": 1,
   "metadata": {
    "id": "YQCsRtF8aPhd"
   },
   "outputs": [],
   "source": [
    "import pandas as pd\n",
    "import numpy as np\n",
    "import matplotlib.pyplot as plt\n",
    "import seaborn as sns\n",
    "import re\n",
    "from scipy import stats"
   ]
  },
  {
   "cell_type": "code",
   "execution_count": 2,
   "metadata": {},
   "outputs": [],
   "source": [
    "%matplotlib inline"
   ]
  },
  {
   "cell_type": "code",
   "execution_count": 3,
   "metadata": {
    "colab": {
     "base_uri": "https://localhost:8080/"
    },
    "id": "mCVhoTZFJsC1",
    "outputId": "6486f38d-65c4-4cf9-bfdd-422a7562f8e9"
   },
   "outputs": [
    {
     "name": "stdout",
     "output_type": "stream",
     "text": [
      "3.5.2\n",
      "0.11.2\n",
      "1.3.4\n"
     ]
    }
   ],
   "source": [
    "import matplotlib\n",
    "\n",
    "print(matplotlib.__version__)\n",
    "print(sns.__version__)\n",
    "print(pd.__version__)"
   ]
  },
  {
   "cell_type": "markdown",
   "metadata": {
    "id": "TCgZPcXcaegs"
   },
   "source": [
    "# **2. Load Data** <br>\n",
    "Data yang digunakan yaitu [Used Car Auction Prices](https://www.kaggle.com/datasets/tunguz/used-car-auction-prices) dari kaggle.com.\n"
   ]
  },
  {
   "cell_type": "code",
   "execution_count": 4,
   "metadata": {
    "id": "_f5jdNCeMkY7"
   },
   "outputs": [],
   "source": [
    "df = pd.read_csv('car_prices.csv', on_bad_lines='skip')"
   ]
  },
  {
   "cell_type": "markdown",
   "metadata": {
    "id": "aZzo_9cLUDIc"
   },
   "source": [
    "# **3. Data Pre-processing** <br>"
   ]
  },
  {
   "cell_type": "markdown",
   "metadata": {
    "id": "XfOMta3U6RyG"
   },
   "source": [
    "## 3.1. Handling Duplicated Data"
   ]
  },
  {
   "cell_type": "code",
   "execution_count": 5,
   "metadata": {
    "colab": {
     "base_uri": "https://localhost:8080/"
    },
    "id": "ZQtUu1Ma6VPe",
    "outputId": "3519fdaa-3a9d-4b13-eff4-2437ad9b93b5"
   },
   "outputs": [
    {
     "data": {
      "text/plain": [
       "0"
      ]
     },
     "execution_count": 5,
     "metadata": {},
     "output_type": "execute_result"
    }
   ],
   "source": [
    "df.duplicated().sum()"
   ]
  },
  {
   "cell_type": "markdown",
   "metadata": {
    "id": "asKPHn2d6nU_"
   },
   "source": [
    "Tidak ada data duplikat."
   ]
  },
  {
   "cell_type": "markdown",
   "metadata": {
    "id": "4P2dM8gqgEEu"
   },
   "source": [
    "## 3.2. Handling Missing Values"
   ]
  },
  {
   "cell_type": "markdown",
   "metadata": {
    "id": "7ZbqgChAnjej"
   },
   "source": [
    "### 3.2.1 Drop Missing Values"
   ]
  },
  {
   "cell_type": "code",
   "execution_count": 6,
   "metadata": {
    "id": "fSCusG3FKzmP"
   },
   "outputs": [],
   "source": [
    "mv = df.isnull().sum()\n",
    "tmv = df.isnull().count()\n",
    "\n",
    "pmv = mv*100/tmv\n",
    "\n",
    "mdf = pd.concat([mv, pmv], axis=1)\n",
    "mdf.columns = ['Missing Value Total', 'Missing Value Percentage (%)']\n",
    "mdf.reset_index(inplace=True)\n",
    "# mdf"
   ]
  },
  {
   "cell_type": "code",
   "execution_count": 7,
   "metadata": {
    "id": "LjhXqL_aiHeq"
   },
   "outputs": [],
   "source": [
    "col_mv = mdf[mdf['Missing Value Percentage (%)'] < 2.5]['index'] # kolom dengan missing value < 2.5 akan kita drop barisnya\n",
    "# col_mv"
   ]
  },
  {
   "cell_type": "code",
   "execution_count": 8,
   "metadata": {
    "colab": {
     "base_uri": "https://localhost:8080/"
    },
    "id": "3Roai3sWg4oa",
    "outputId": "430c7a59-0ca4-4840-9c68-f4d5f7551491"
   },
   "outputs": [
    {
     "data": {
      "text/plain": [
       "year                0\n",
       "make                0\n",
       "model               0\n",
       "trim                0\n",
       "body                0\n",
       "transmission    61324\n",
       "vin                 0\n",
       "state               0\n",
       "condition           0\n",
       "odometer            0\n",
       "color               0\n",
       "interior            0\n",
       "seller              0\n",
       "mmr                 0\n",
       "sellingprice        0\n",
       "saledate            0\n",
       "dtype: int64"
      ]
     },
     "execution_count": 8,
     "metadata": {},
     "output_type": "execute_result"
    }
   ],
   "source": [
    "# Setelah drop missing value dari kolom yang persentase missing value < 2.5 %\n",
    "cols = col_mv.values\n",
    "for i in cols:\n",
    "  df = df[~(df[i].isnull())]\n",
    "df.isna().sum()"
   ]
  },
  {
   "cell_type": "code",
   "execution_count": 9,
   "metadata": {
    "id": "OISyRnz0m484"
   },
   "outputs": [],
   "source": [
    "# df.shape"
   ]
  },
  {
   "cell_type": "markdown",
   "metadata": {
    "id": "TawHx2NmnosI"
   },
   "source": [
    "### 3.2.2 Fill Missing Value in Transmission Column"
   ]
  },
  {
   "cell_type": "code",
   "execution_count": 10,
   "metadata": {
    "colab": {
     "base_uri": "https://localhost:8080/"
    },
    "id": "sWRKdno042PN",
    "outputId": "6966d7cd-a86f-49ab-b7cf-9cd918027429"
   },
   "outputs": [
    {
     "data": {
      "text/plain": [
       "61324"
      ]
     },
     "execution_count": 10,
     "metadata": {},
     "output_type": "execute_result"
    }
   ],
   "source": [
    "# before filling missing value\n",
    "df['transmission'].isnull().sum()"
   ]
  },
  {
   "cell_type": "code",
   "execution_count": 11,
   "metadata": {
    "colab": {
     "base_uri": "https://localhost:8080/"
    },
    "id": "QcfAb05Q4fvZ",
    "outputId": "1594ca43-9111-4eee-e3d8-f2cb999355d5"
   },
   "outputs": [
    {
     "data": {
      "text/plain": [
       "0"
      ]
     },
     "execution_count": 11,
     "metadata": {},
     "output_type": "execute_result"
    }
   ],
   "source": [
    "# after filling missing value\n",
    "df['transmission'] = df['transmission'].fillna(df['transmission'].mode()[0])\n",
    "df['transmission'].isnull().sum()"
   ]
  },
  {
   "cell_type": "code",
   "execution_count": 12,
   "metadata": {
    "id": "bP9MpvQSOZd2"
   },
   "outputs": [],
   "source": [
    "# df.info()"
   ]
  },
  {
   "cell_type": "markdown",
   "metadata": {
    "id": "JxFdU6Q-UJYR"
   },
   "source": [
    "## 3.3. Recategorization High Cardinality in Categorical Features"
   ]
  },
  {
   "cell_type": "markdown",
   "metadata": {
    "id": "DTbwpT75Ur5L"
   },
   "source": [
    "### 3.3.1 Color"
   ]
  },
  {
   "cell_type": "code",
   "execution_count": 13,
   "metadata": {
    "id": "UOY_s52NU7PC"
   },
   "outputs": [],
   "source": [
    "# mengganti nilai - menjadi unknown pada kolom color\n",
    "df.color = df.color.replace('—', 'unknown')"
   ]
  },
  {
   "cell_type": "code",
   "execution_count": 14,
   "metadata": {
    "id": "VmikqknyTuVF"
   },
   "outputs": [],
   "source": [
    "color_grouped = df.groupby('color').agg({'sellingprice':'count'}).reset_index()\n",
    "color_grouped['Percentage']=color_grouped['sellingprice']*100/color_grouped.sellingprice.sum()\n",
    "# color_grouped.sort_values('sellingprice', ascending=False).reset_index(drop=True)"
   ]
  },
  {
   "cell_type": "markdown",
   "metadata": {
    "id": "jW0DnMjVTzav"
   },
   "source": [
    "melihat persentase dibawah 10 yang kecil, oleh karena itu beberapa warna yang di rasa sama akan digabungkan."
   ]
  },
  {
   "cell_type": "code",
   "execution_count": 15,
   "metadata": {
    "id": "bEehBLblVfcO"
   },
   "outputs": [],
   "source": [
    "def color_category(x): \n",
    "  if x in ['black','charcoal','unknown']: \n",
    "    color = 'black'\n",
    "  elif x in ['off-white', 'white']:\n",
    "    color = 'white'\n",
    "  elif x == 'silver':\n",
    "    color = 'silver'\n",
    "  elif x == 'gray':\n",
    "    color = 'gray'\n",
    "  elif x in ['blue', 'turqoise']:\n",
    "    color = 'blue'\n",
    "  elif x in ['burgundy', 'red', 'purple']:\n",
    "    color = 'red'\n",
    "  elif x in ['beige','brown']:\n",
    "    color = 'brown'\n",
    "  elif x == 'green':\n",
    "    color = 'green'\n",
    "  elif x in ['gold','yellow']:\n",
    "    color = 'gold'\n",
    "  elif x == 'pink':\n",
    "    color = 'pink'\n",
    "  else:\n",
    "    color= 'orange'\n",
    "  return color"
   ]
  },
  {
   "cell_type": "code",
   "execution_count": 16,
   "metadata": {
    "id": "RgtuSd-wT_CB"
   },
   "outputs": [],
   "source": [
    "# Membuat kolom baru yaitu kolom color_new menggunakan fungsi color_category\n",
    "df['color_new'] = df['color'].apply(lambda x: color_category(x))"
   ]
  },
  {
   "cell_type": "code",
   "execution_count": 17,
   "metadata": {
    "id": "omhzlQu9ayKF"
   },
   "outputs": [],
   "source": [
    "# Drop kolom color\n",
    "df = df.drop(columns='color')"
   ]
  },
  {
   "cell_type": "markdown",
   "metadata": {
    "id": "UyhPlQZqjVcn"
   },
   "source": [
    "### 3.3.2 Interior"
   ]
  },
  {
   "cell_type": "code",
   "execution_count": 18,
   "metadata": {
    "id": "ApV-6S0ejarH",
    "tags": []
   },
   "outputs": [],
   "source": [
    "# Mengganti nilai - menjadi unknown pada kolom interior\n",
    "df.interior = df.interior.replace('—', 'unknown')"
   ]
  },
  {
   "cell_type": "code",
   "execution_count": 19,
   "metadata": {
    "id": "wmioacjak2x5"
   },
   "outputs": [],
   "source": [
    "# membuat kolom baru yaitu kolom interior_new menggunakan fungsi interior_category\n",
    "df['interior_new'] = df['interior'].apply(lambda x: color_category(x))"
   ]
  },
  {
   "cell_type": "code",
   "execution_count": 20,
   "metadata": {
    "id": "qgX2mAFUlACh"
   },
   "outputs": [],
   "source": [
    "# Drop kolom interior\n",
    "df = df.drop(columns='interior')"
   ]
  },
  {
   "cell_type": "markdown",
   "metadata": {},
   "source": [
    "### 3.3.3 Model"
   ]
  },
  {
   "cell_type": "code",
   "execution_count": 21,
   "metadata": {},
   "outputs": [],
   "source": [
    "df['model'] = df.model.str.lower()"
   ]
  },
  {
   "cell_type": "markdown",
   "metadata": {
    "id": "S7JNT0kh6x_A"
   },
   "source": [
    "## 3.4. Feature Transformation <br>\n",
    "Log Transformation pada feature odometer. Kami melakukan transoformasi terlebih dulu sebelum melakukan handling outlier. Jika kita melakukan handling outlier terlebih dulu, maka kemungkinan data yang akan dibuang lebih banyak. Oleh karena itu, kami melakukan log transformation terlebih dulu dengan harapan data semakin terdistribusi dengan normal sehingga data yang terindikasi outlier lebih sedikit."
   ]
  },
  {
   "cell_type": "markdown",
   "metadata": {
    "id": "eY3-QC8U_QVy"
   },
   "source": [
    "### 3.4.1 Transformasi dengan Pangkat 1/3"
   ]
  },
  {
   "cell_type": "code",
   "execution_count": 22,
   "metadata": {
    "colab": {
     "base_uri": "https://localhost:8080/"
    },
    "id": "pIduwo_Y-HpG",
    "outputId": "20c317bc-6399-4e50-b944-ae1bf1e0c0ee"
   },
   "outputs": [
    {
     "name": "stdout",
     "output_type": "stream",
     "text": [
      "Skew value: 0.0656155379397687\n"
     ]
    }
   ],
   "source": [
    "df['odometer_pow'] = df['odometer'].apply(lambda x : x**(1/3))\n",
    "print('Skew value:', df['odometer_pow'].skew())"
   ]
  },
  {
   "cell_type": "markdown",
   "metadata": {
    "id": "9BTLzmvtQ16o"
   },
   "source": [
    "### 3.4.2 PowerTransformer <br>\n",
    "[PowerTransformer](https://medium.com/towards-data-science/how-to-differentiate-between-scaling-normalization-and-log-transformations-69873d365a94)"
   ]
  },
  {
   "cell_type": "code",
   "execution_count": 23,
   "metadata": {
    "colab": {
     "base_uri": "https://localhost:8080/"
    },
    "id": "-cLhv8LkOY4p",
    "outputId": "2cdc7997-6ede-445b-ab97-120d7478d84f"
   },
   "outputs": [
    {
     "name": "stdout",
     "output_type": "stream",
     "text": [
      "Skew value: 0.012277514291040147\n"
     ]
    }
   ],
   "source": [
    "# Transformasi dengan PowerTransformer\n",
    "from sklearn.preprocessing import PowerTransformer\n",
    "df['odometer_pt'] = PowerTransformer().fit_transform(df['odometer'].values.reshape(len(df), 1))\n",
    "print('Skew value:', df['odometer_pt'].skew())"
   ]
  },
  {
   "cell_type": "markdown",
   "metadata": {
    "id": "0IlgjebMKxFG"
   },
   "source": [
    "Berdasarkan nilai skew, kami memilih menggunakan hasil transformasi dari PowerTransformer (odometer_pt)"
   ]
  },
  {
   "cell_type": "code",
   "execution_count": 24,
   "metadata": {
    "id": "kWK6Xj2sQE8c"
   },
   "outputs": [],
   "source": [
    "# Drop kolom odometer_pow\n",
    "df = df.drop(columns='odometer_pow')"
   ]
  },
  {
   "cell_type": "markdown",
   "metadata": {
    "id": "TUeBOHCG-fgO"
   },
   "source": [
    "## 3.5. Handling Outliers <br>\n",
    "Handling outlier dilakukan pada kolom `odometer_pt` dan `sellingprice`."
   ]
  },
  {
   "cell_type": "code",
   "execution_count": 25,
   "metadata": {
    "colab": {
     "base_uri": "https://localhost:8080/"
    },
    "id": "8ZvLHiuGUjJh",
    "outputId": "dd24e8e8-f9bd-4b8f-ce73-4027b4744d74"
   },
   "outputs": [
    {
     "name": "stdout",
     "output_type": "stream",
     "text": [
      "Jumlah Baris sebelum filter: 533660 \n",
      "\n"
     ]
    }
   ],
   "source": [
    "# Boxplot sebelum handling outlier\n",
    "cols = ['odometer_pt', 'sellingprice']\n",
    "\n",
    "# plt.figure(figsize=(9,6))\n",
    "# for i in range(len(cols)):\n",
    "#     plt.subplot(1, len(cols), i+1)\n",
    "#     sns.boxplot(y = df[cols[i]], orient = 'v')\n",
    "#     plt.tight_layout()\n",
    "\n",
    "rows_before_filt = len(df)\n",
    "print('Jumlah Baris sebelum filter:', rows_before_filt, '\\n')"
   ]
  },
  {
   "cell_type": "code",
   "execution_count": 26,
   "metadata": {
    "colab": {
     "base_uri": "https://localhost:8080/"
    },
    "id": "sHzGO3erURhR",
    "outputId": "ed265970-959c-4648-c990-2b8633bff726"
   },
   "outputs": [
    {
     "name": "stdout",
     "output_type": "stream",
     "text": [
      "Jumlah baris setelah memfilter outlier: 525058\n",
      "Persentase outlier yang dibuang: 1.61\n"
     ]
    }
   ],
   "source": [
    "# Handling outlier dengan z-score\n",
    "cols = ['odometer_pt', 'sellingprice']\n",
    "\n",
    "filtered_entries = np.array([True] * len(df))\n",
    "\n",
    "for col in cols:\n",
    "    zscore = abs(stats.zscore(df[col]))                       # hitung absolute z-scorenya\n",
    "    filtered_entries = (zscore < 3) & filtered_entries        # keep yang kurang dari 3 absolute z-scorenya\n",
    "    \n",
    "df = df[filtered_entries]                                     # filter, cuma ambil yang z-scorenya dibawah 3\n",
    "\n",
    "# Total baris yang dibuang\n",
    "rows_after_filt = len(df)\n",
    "diff = round((rows_before_filt - rows_after_filt) / rows_before_filt * 100, 2)\n",
    "print(f'Jumlah baris setelah memfilter outlier: {len(df)}')\n",
    "print(f'Persentase outlier yang dibuang:', diff)"
   ]
  },
  {
   "cell_type": "markdown",
   "metadata": {
    "id": "wzOSg62T8p08"
   },
   "source": [
    "## 3.6. Feature Extraction <br>\n"
   ]
  },
  {
   "cell_type": "markdown",
   "metadata": {
    "id": "vr9r91G5OR_j"
   },
   "source": [
    "### 3.6.1 New Column: Car Age"
   ]
  },
  {
   "cell_type": "code",
   "execution_count": 27,
   "metadata": {
    "colab": {
     "base_uri": "https://localhost:8080/"
    },
    "id": "-Myxa6TnOf1x",
    "outputId": "d55106e4-b389-4f79-a455-38b1edf2772b"
   },
   "outputs": [
    {
     "name": "stdout",
     "output_type": "stream",
     "text": [
      "format saledate original:\n",
      " Tue Dec 16 2014 12:30:00 GMT-0800 (PST)\n"
     ]
    }
   ],
   "source": [
    "# Format awal kolom saledate\n",
    "print('format saledate original:\\n', df.saledate[0])\n",
    "\n",
    "# Transform kolom saledate\n",
    "df['saledate'] = df['saledate'].apply(lambda x:re.search('(\\w+\\s\\d{2}\\s\\d{4})',x).group(1))\n",
    "df['saledate'] = pd.to_datetime(df['saledate'], format='%b %d %Y')"
   ]
  },
  {
   "cell_type": "code",
   "execution_count": 28,
   "metadata": {
    "colab": {
     "base_uri": "https://localhost:8080/"
    },
    "id": "UWz4uALBOf4T",
    "outputId": "b66abed6-d4a3-4962-bc4f-18be8ba5812a"
   },
   "outputs": [
    {
     "name": "stdout",
     "output_type": "stream",
     "text": [
      "Unique value car age: [-1  1  0  2  3  4  5  6  7  8  9 10 11 12 13 14 15 16 18 19 17 20 22 23\n",
      " 21 24 25]\n"
     ]
    }
   ],
   "source": [
    "# Buat kolom baru saledate_year\n",
    "df['saledate_year'] = df['saledate'].dt.year\n",
    "\n",
    "# Buat kolom baru Car Age (Car age = saledate_year - year <tahun produksi mobil>)\n",
    "df['car_age'] = df['saledate_year'] - df['year']\n",
    "print('Unique value car age:', df['car_age'].unique())"
   ]
  },
  {
   "cell_type": "code",
   "execution_count": 29,
   "metadata": {
    "id": "Swoe_cYXOgCD"
   },
   "outputs": [],
   "source": [
    "# Drop baris yang mengandung nilai < 0 pada kolom Car Age (terdapat 141 baris yg car age < 0)\n",
    "df = df[df['car_age'] >= 0]\n",
    "\n",
    "# Drop kolom saledate dan year\n",
    "df = df.drop(columns=['saledate', 'year'])"
   ]
  },
  {
   "cell_type": "code",
   "execution_count": 30,
   "metadata": {
    "colab": {
     "base_uri": "https://localhost:8080/",
     "height": 72
    },
    "id": "2KIU4QIDf8Sw",
    "outputId": "5f0dbf5f-169c-4f4e-8025-938b90221627"
   },
   "outputs": [
    {
     "name": "stdout",
     "output_type": "stream",
     "text": [
      "Skew value: 0.005011404205303489\n"
     ]
    },
    {
     "data": {
      "image/png": "[encoded data removed]",
      "text/plain": [
       "<Figure size 576x432 with 2 Axes>"
      ]
     },
     "metadata": {
      "needs_background": "light"
     },
     "output_type": "display_data"
    }
   ],
   "source": [
    "# PowerTransform Car Age\n",
    "df['car_age_pt'] = PowerTransformer().fit_transform(df['car_age'].values.reshape(len(df), 1))\n",
    "print('Skew value:', df['car_age_pt'].skew())\n",
    "\n",
    "# KDE car_age\n",
    "cols = ['car_age', 'car_age_pt']\n",
    "plt.figure(figsize=(8, 6))\n",
    "for i in range(len(cols)):\n",
    "  plt.subplot(len(cols), 1, i+1)\n",
    "  sns.histplot(data=df, x=df[cols[i]], kde=True)\n",
    "  plt.tight_layout()"
   ]
  },
  {
   "cell_type": "code",
   "execution_count": 31,
   "metadata": {
    "id": "LrBwDyIwgq2g"
   },
   "outputs": [],
   "source": [
    "# Drop car age\n",
    "df = df.drop(columns='car_age')"
   ]
  },
  {
   "cell_type": "markdown",
   "metadata": {
    "id": "TRnNEfQfcZZ1"
   },
   "source": [
    "## 3.7. Feature Selection <br>\n",
    "Feature yang akan digunakan dalam membangun model adalah:\n",
    "- **Categorical**: color_new, interior_new, model_new, transmission\n",
    "- **Numerical**: car_age_pt, odometer_pt, condition.\n",
    "- Kolom yang **di-drop**:\n",
    "  - year -> kolom ini digantikan dengan kolom car_age\n",
    "  - trim, vin -> karena high cardinality\n",
    "  - make, body -> unique terhadap model\n",
    "  - state -> karena KDE-nya sama-sama saja (?)\n",
    "  - seller, mmr -> high cardinality\n",
    "  - saledate -> high cardinality\n",
    "\n",
    "KOLOM YANG PERLU DISTANDARISASI SETELAH SPLITTING:\n",
    "car_age_pt, odometer_pt, condition\n",
    "\n",
    "Karena terdapat banyak sekali data unique pada model, maka hanya digunakan 30 model teratas."
   ]
  },
  {
   "cell_type": "code",
   "execution_count": 32,
   "metadata": {
    "colab": {
     "base_uri": "https://localhost:8080/"
    },
    "id": "QHdZGCX_cdIx",
    "outputId": "2338052d-e9e5-4da6-e605-e1b004f7003c"
   },
   "outputs": [
    {
     "data": {
      "text/plain": [
       "(231575, 8)"
      ]
     },
     "execution_count": 32,
     "metadata": {},
     "output_type": "execute_result"
    }
   ],
   "source": [
    "# Feature yang dipilih untuk memprediksi sellingprice\n",
    "df = df[['color_new', 'interior_new', 'model', 'transmission',\n",
    "         'car_age_pt', 'odometer_pt', 'condition', 'sellingprice']]\n",
    "\n",
    "g_m = df.groupby('model')['transmission'].count()\n",
    "g_m.sort_values(ascending=False, inplace=True)\n",
    "g_m = g_m.reset_index()\n",
    "g_m = g_m.iloc[:30, 0]\n",
    "\n",
    "model_new = [i for i in g_m]\n",
    "\n",
    "df = df[df['model'].isin(model_new)]\n",
    "df.shape"
   ]
  },
  {
   "cell_type": "markdown",
   "metadata": {
    "id": "tnVHg19hLVmZ"
   },
   "source": [
    "## 3.8. Feature encoding"
   ]
  },
  {
   "cell_type": "markdown",
   "metadata": {
    "id": "zxGL7vdhoMLu"
   },
   "source": [
    "### 3.8.1 Label Encoding"
   ]
  },
  {
   "cell_type": "code",
   "execution_count": 33,
   "metadata": {
    "colab": {
     "base_uri": "https://localhost:8080/"
    },
    "id": "gLwhl8UhnknT",
    "outputId": "3fdc4f2c-af23-477c-ee00-7f05cc820f0a"
   },
   "outputs": [],
   "source": [
    "# Label encoding -> kolom transmission\n",
    "mapping_trans = {\n",
    "    'automatic' : 0,\n",
    "    'manual' : 1\n",
    "}\n",
    "\n",
    "df['transmission'] = df['transmission'].map(mapping_trans)"
   ]
  },
  {
   "cell_type": "markdown",
   "metadata": {
    "id": "N981XjAkszam"
   },
   "source": [
    "### 3.8.2 One Hot Encoding"
   ]
  },
  {
   "cell_type": "code",
   "execution_count": 34,
   "metadata": {
    "id": "ek74ysdln0AM"
   },
   "outputs": [],
   "source": [
    "# OHE -> kolom color_new, interior_new, make_new, body_new\n",
    "\n",
    "cols_OHE = ['color_new', 'interior_new', 'model']\n",
    "\n",
    "for i in cols_OHE:\n",
    "    onehots = pd.get_dummies(df[i], prefix=i, drop_first=True)  # drop_first=True utk menghindari multicollinearity\n",
    "    df = df.merge(onehots, how='outer', right_index = True, left_index = True)"
   ]
  },
  {
   "cell_type": "markdown",
   "metadata": {
    "id": "kSPkhNkR_ozP"
   },
   "source": [
    "### 3.8.3 Drop the columns that have been done Feature Encoding <br>\n",
    "Kolom yang telah dilakukan OHE akan di-drop"
   ]
  },
  {
   "cell_type": "code",
   "execution_count": 35,
   "metadata": {
    "id": "yymMrhVFAaxf"
   },
   "outputs": [],
   "source": [
    "df = df.drop(columns=cols_OHE)"
   ]
  },
  {
   "cell_type": "markdown",
   "metadata": {
    "id": "nK4WM9BrkDTY"
   },
   "source": [
    "## 3.9. All Features\n",
    "- [split_data](https://towardsdatascience.com/how-to-split-a-dataset-into-training-and-testing-sets-b146b1649830)\n",
    "- [Using StandarScaler() after split data](https://datascience.stackexchange.com/questions/38395/standardscaler-before-and-after-splitting-data)\n",
    "- https://scikit-learn.org/stable/common_pitfalls.html"
   ]
  },
  {
   "cell_type": "code",
   "execution_count": 36,
   "metadata": {
    "colab": {
     "base_uri": "https://localhost:8080/",
     "height": 240
    },
    "id": "HG0H1YZZkQVL",
    "outputId": "cb1f84ef-9f14-4672-94e2-efd602f265ec"
   },
   "outputs": [
    {
     "data": {
      "text/html": [
       "<div>\n",
       "<style scoped>\n",
       "    .dataframe tbody tr th:only-of-type {\n",
       "        vertical-align: middle;\n",
       "    }\n",
       "\n",
       "    .dataframe tbody tr th {\n",
       "        vertical-align: top;\n",
       "    }\n",
       "\n",
       "    .dataframe thead th {\n",
       "        text-align: right;\n",
       "    }\n",
       "</style>\n",
       "<table border=\"1\" class=\"dataframe\">\n",
       "  <thead>\n",
       "    <tr style=\"text-align: right;\">\n",
       "      <th></th>\n",
       "      <th>transmission</th>\n",
       "      <th>car_age_pt</th>\n",
       "      <th>odometer_pt</th>\n",
       "      <th>condition</th>\n",
       "      <th>sellingprice</th>\n",
       "      <th>color_new_blue</th>\n",
       "      <th>color_new_brown</th>\n",
       "      <th>color_new_gold</th>\n",
       "      <th>color_new_gray</th>\n",
       "      <th>color_new_green</th>\n",
       "      <th>...</th>\n",
       "      <th>model_jetta</th>\n",
       "      <th>model_malibu</th>\n",
       "      <th>model_maxima</th>\n",
       "      <th>model_mustang</th>\n",
       "      <th>model_rogue</th>\n",
       "      <th>model_sentra</th>\n",
       "      <th>model_silverado 1500</th>\n",
       "      <th>model_sonata</th>\n",
       "      <th>model_taurus</th>\n",
       "      <th>model_town and country</th>\n",
       "    </tr>\n",
       "  </thead>\n",
       "  <tbody>\n",
       "    <tr>\n",
       "      <th>2</th>\n",
       "      <td>0</td>\n",
       "      <td>-1.306077</td>\n",
       "      <td>-2.604439</td>\n",
       "      <td>4.5</td>\n",
       "      <td>30000</td>\n",
       "      <td>0</td>\n",
       "      <td>0</td>\n",
       "      <td>0</td>\n",
       "      <td>1</td>\n",
       "      <td>0</td>\n",
       "      <td>...</td>\n",
       "      <td>0</td>\n",
       "      <td>0</td>\n",
       "      <td>0</td>\n",
       "      <td>0</td>\n",
       "      <td>0</td>\n",
       "      <td>0</td>\n",
       "      <td>0</td>\n",
       "      <td>0</td>\n",
       "      <td>0</td>\n",
       "      <td>0</td>\n",
       "    </tr>\n",
       "    <tr>\n",
       "      <th>7</th>\n",
       "      <td>0</td>\n",
       "      <td>-2.422727</td>\n",
       "      <td>-0.673565</td>\n",
       "      <td>2.0</td>\n",
       "      <td>9800</td>\n",
       "      <td>0</td>\n",
       "      <td>0</td>\n",
       "      <td>0</td>\n",
       "      <td>0</td>\n",
       "      <td>0</td>\n",
       "      <td>...</td>\n",
       "      <td>0</td>\n",
       "      <td>0</td>\n",
       "      <td>0</td>\n",
       "      <td>0</td>\n",
       "      <td>0</td>\n",
       "      <td>0</td>\n",
       "      <td>0</td>\n",
       "      <td>0</td>\n",
       "      <td>0</td>\n",
       "      <td>0</td>\n",
       "    </tr>\n",
       "  </tbody>\n",
       "</table>\n",
       "<p>2 rows × 53 columns</p>\n",
       "</div>"
      ],
      "text/plain": [
       "   transmission  car_age_pt  odometer_pt  condition  sellingprice  \\\n",
       "2             0   -1.306077    -2.604439        4.5         30000   \n",
       "7             0   -2.422727    -0.673565        2.0          9800   \n",
       "\n",
       "   color_new_blue  color_new_brown  color_new_gold  color_new_gray  \\\n",
       "2               0                0               0               1   \n",
       "7               0                0               0               0   \n",
       "\n",
       "   color_new_green  ...  model_jetta  model_malibu  model_maxima  \\\n",
       "2                0  ...            0             0             0   \n",
       "7                0  ...            0             0             0   \n",
       "\n",
       "   model_mustang  model_rogue  model_sentra  model_silverado 1500  \\\n",
       "2              0            0             0                     0   \n",
       "7              0            0             0                     0   \n",
       "\n",
       "   model_sonata  model_taurus  model_town and country  \n",
       "2             0             0                       0  \n",
       "7             0             0                       0  \n",
       "\n",
       "[2 rows x 53 columns]"
      ]
     },
     "execution_count": 36,
     "metadata": {},
     "output_type": "execute_result"
    }
   ],
   "source": [
    "df.head(2)"
   ]
  },
  {
   "cell_type": "code",
   "execution_count": 37,
   "metadata": {
    "colab": {
     "base_uri": "https://localhost:8080/"
    },
    "id": "acXwumzZkApi",
    "outputId": "8f1e096a-e883-4796-bafd-a868cac7cedb"
   },
   "outputs": [
    {
     "data": {
      "text/plain": [
       "Index(['transmission', 'car_age_pt', 'odometer_pt', 'condition',\n",
       "       'sellingprice', 'color_new_blue', 'color_new_brown', 'color_new_gold',\n",
       "       'color_new_gray', 'color_new_green', 'color_new_orange',\n",
       "       'color_new_pink', 'color_new_red', 'color_new_silver',\n",
       "       'color_new_white', 'interior_new_blue', 'interior_new_brown',\n",
       "       'interior_new_gold', 'interior_new_gray', 'interior_new_green',\n",
       "       'interior_new_orange', 'interior_new_red', 'interior_new_silver',\n",
       "       'interior_new_white', 'model_accord', 'model_altima', 'model_c-class',\n",
       "       'model_camry', 'model_civic', 'model_corolla', 'model_cruze',\n",
       "       'model_edge', 'model_elantra', 'model_equinox', 'model_escape',\n",
       "       'model_explorer', 'model_f-150', 'model_focus', 'model_fusion',\n",
       "       'model_g sedan', 'model_grand caravan', 'model_grand cherokee',\n",
       "       'model_impala', 'model_jetta', 'model_malibu', 'model_maxima',\n",
       "       'model_mustang', 'model_rogue', 'model_sentra', 'model_silverado 1500',\n",
       "       'model_sonata', 'model_taurus', 'model_town and country'],\n",
       "      dtype='object')"
      ]
     },
     "execution_count": 37,
     "metadata": {},
     "output_type": "execute_result"
    }
   ],
   "source": [
    "df.columns"
   ]
  },
  {
   "cell_type": "code",
   "execution_count": 38,
   "metadata": {
    "colab": {
     "base_uri": "https://localhost:8080/"
    },
    "id": "5kQO0586mO4Y",
    "outputId": "8edf554b-fd69-4767-9759-91ce3d141cdc"
   },
   "outputs": [
    {
     "data": {
      "text/plain": [
       "(231575, 53)"
      ]
     },
     "execution_count": 38,
     "metadata": {},
     "output_type": "execute_result"
    }
   ],
   "source": [
    "df.shape"
   ]
  },
  {
   "cell_type": "code",
   "execution_count": 39,
   "metadata": {
    "colab": {
     "base_uri": "https://localhost:8080/"
    },
    "id": "CTuOEXN-tvBF",
    "outputId": "103a990c-1014-4f09-e453-f01dec3f5fd4"
   },
   "outputs": [
    {
     "name": "stdout",
     "output_type": "stream",
     "text": [
      "Total training data: 162102\n",
      "Total testing data: 69473\n"
     ]
    }
   ],
   "source": [
    "# Split Dataset\n",
    "from sklearn.model_selection import train_test_split\n",
    "training_data, testing_data = train_test_split(df, test_size=0.3, random_state=25)\n",
    "\n",
    "print('Total training data:', training_data.shape[0])\n",
    "print('Total testing data:', testing_data.shape[0])"
   ]
  },
  {
   "cell_type": "code",
   "execution_count": 40,
   "metadata": {
    "id": "Kd_VpiX2ZMyP"
   },
   "outputs": [],
   "source": [
    "# Save to csv\n",
    "training_data.to_csv('train_data.csv', index=False)\n",
    "testing_data.to_csv('test_data.csv', index=False)"
   ]
  },
  {
   "cell_type": "code",
   "execution_count": 41,
   "metadata": {
    "id": "kIX6SSDSeu6s"
   },
   "outputs": [],
   "source": [
    "# Splitting data\n",
    "\n",
    "X_train = training_data.drop(columns=['sellingprice'])\n",
    "y_train =  training_data['sellingprice']\n",
    "\n",
    "X_test = testing_data.drop(columns=['sellingprice'])\n",
    "y_test = testing_data['sellingprice']"
   ]
  },
  {
   "cell_type": "code",
   "execution_count": 42,
   "metadata": {
    "id": "y-c7F93tfbRS"
   },
   "outputs": [],
   "source": [
    "# Standarisasi Features\n",
    "from sklearn.preprocessing import StandardScaler\n",
    "\n",
    "# OPSI 1: Langsung semua distandarisasi pakai 1 Standarscaler saja\n",
    "ss = StandardScaler()\n",
    "X_train = ss.fit_transform(X_train)\n",
    "X_test = ss.transform (X_test)"
   ]
  },
  {
   "cell_type": "code",
   "execution_count": 43,
   "metadata": {
    "id": "BxwdE4Z_e6mi"
   },
   "outputs": [
    {
     "name": "stderr",
     "output_type": "stream",
     "text": [
      "C:\\Users\\julda\\anaconda3\\lib\\site-packages\\sklearn\\linear_model\\_logistic.py:763: ConvergenceWarning: lbfgs failed to converge (status=1):\n",
      "STOP: TOTAL NO. of ITERATIONS REACHED LIMIT.\n",
      "\n",
      "Increase the number of iterations (max_iter) or scale the data as shown in:\n",
      "    https://scikit-learn.org/stable/modules/preprocessing.html\n",
      "Please also refer to the documentation for alternative solver options:\n",
      "    https://scikit-learn.org/stable/modules/linear_model.html#logistic-regression\n",
      "  n_iter_i = _check_optimize_result(\n"
     ]
    },
    {
     "data": {
      "text/plain": [
       "LogisticRegression()"
      ]
     },
     "execution_count": 43,
     "metadata": {},
     "output_type": "execute_result"
    }
   ],
   "source": [
    "# # Fitting simple linear regression to the Training Set\n",
    "from sklearn.linear_model import LogisticRegression\n",
    "\n",
    "regressor = LogisticRegression()\n",
    "regressor.fit(X_train, y_train)"
   ]
  },
  {
   "cell_type": "code",
   "execution_count": 44,
   "metadata": {
    "id": "J5vtuOXf9-Po"
   },
   "outputs": [],
   "source": [
    "# Model Evaluation Train\n",
    "y_pred_train = regressor.predict(X_train)\n",
    "# Model Evaluation Test\n",
    "y_pred_test = regressor.predict(X_test)"
   ]
  },
  {
   "cell_type": "code",
   "execution_count": 45,
   "metadata": {},
   "outputs": [
    {
     "name": "stdout",
     "output_type": "stream",
     "text": [
      "Train Score\n",
      "MAE : 1733.6730577044084\n",
      "RMSE : 2738.443801376037\n",
      "R2 Score : 0.8439193300229189\n",
      "===========================\n",
      "Test Score\n",
      "MAE : 1753.331049472457\n",
      "RMSE : 2775.913737368402\n",
      "R2 Score : 0.8402821865013836\n"
     ]
    }
   ],
   "source": [
    "from sklearn.metrics import mean_squared_error, mean_absolute_error, r2_score\n",
    "print('Train Score')\n",
    "print(f'MAE : {mean_absolute_error(y_train, y_pred_train)}')\n",
    "print(f'RMSE : {mean_squared_error(y_train, y_pred_train, squared=False)}')\n",
    "print(f'R2 Score : {r2_score(y_train, y_pred_train)}')\n",
    "print('===========================')\n",
    "print('Test Score')\n",
    "print(f'MAE : {mean_absolute_error(y_test, y_pred_test)}')\n",
    "print(f'RMSE : {mean_squared_error(y_test, y_pred_test, squared=False)}')\n",
    "print(f'R2 Score : {r2_score(y_test, y_pred_test)}')"
   ]
  },
  {
   "cell_type": "code",
   "execution_count": null,
   "metadata": {},
   "outputs": [
    {
     "name": "stderr",
     "output_type": "stream",
     "text": [
      "C:\\Users\\julda\\anaconda3\\lib\\site-packages\\sklearn\\model_selection\\_split.py:666: UserWarning: The least populated class in y has only 1 members, which is less than n_splits=5.\n",
      "  warnings.warn((\"The least populated class in y has only %d\"\n",
      "C:\\Users\\julda\\anaconda3\\lib\\site-packages\\sklearn\\linear_model\\_logistic.py:1322: UserWarning: Setting penalty='none' will ignore the C and l1_ratio parameters\n",
      "  warnings.warn(\n"
     ]
    }
   ],
   "source": [
    "from sklearn.model_selection import GridSearchCV\n",
    "\n",
    "solvers = ['newton-cg', 'lbfgs', 'liblinear']\n",
    "penalty = ['none','l1','l2']\n",
    "c_val = [100,10,1,0.1,0.01]\n",
    "\n",
    "grid = dict(solver=solvers,penalty=penalty,C=c_val)\n",
    "\n",
    "grid_search = GridSearchCV(regressor, grid, cv=5, scoring='r2')\n",
    "grid_search.fit(X_train,y_train)\n",
    "\n",
    "print(\"Best: %f using %s\" % (grid_result.best_score_, grid_result.best_params_))"
   ]
  },
  {
   "cell_type": "code",
   "execution_count": null,
   "metadata": {},
   "outputs": [],
   "source": [
    "y_pred_tr = grid_search.predict(X_train)\n",
    "y_pred_ts = grid_search.predict(X_test)"
   ]
  },
  {
   "cell_type": "code",
   "execution_count": 48,
   "metadata": {},
   "outputs": [],
   "source": [
    "#print('Train Score')\n",
    "#print(f'MAE : {mean_absolute_error(y_train, y_pred_tr)}')\n",
    "#print(f'RMSE : {mean_squared_error(y_train, y_pred_tr, squared=False)}')\n",
    "#print(f'R2 Score : {r2_score(y_train, y_pred_tr)}')\n",
    "#print('===========================')\n",
    "#print('Test Score')\n",
    "#print(f'MAE : {mean_absolute_error(y_test, y_pred_ts)}')\n",
    "#print(f'RMSE : {mean_squared_error(y_test, y_pred_ts, squared=False)}')\n",
    "#print(f'R2 Score : {r2_score(y_test, y_pred_ts)}')"
   ]
  },
  {
   "cell_type": "code",
   "execution_count": null,
   "metadata": {},
   "outputs": [],
   "source": []
  }
 ],
 "metadata": {
  "colab": {
   "collapsed_sections": [],
   "name": "Copy of FP STAGE 2_NEW.ipynb",
   "provenance": [],
   "toc_visible": true
  },
  "kernelspec": {
   "display_name": "Python 3 (ipykernel)",
   "language": "python",
   "name": "python3"
  },
  "language_info": {
   "codemirror_mode": {
    "name": "ipython",
    "version": 3
   },
   "file_extension": ".py",
   "mimetype": "text/x-python",
   "name": "python",
   "nbconvert_exporter": "python",
   "pygments_lexer": "ipython3",
   "version": "3.9.7"
  }
 },
 "nbformat": 4,
 "nbformat_minor": 4
}
